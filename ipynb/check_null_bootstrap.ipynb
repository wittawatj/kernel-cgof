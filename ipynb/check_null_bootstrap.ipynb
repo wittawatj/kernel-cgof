{
 "cells": [
  {
   "cell_type": "markdown",
   "metadata": {},
   "source": [
    "A notebook to check that the wild bootstrap procedure to simulate the null distribution of KSSD and FSCD."
   ]
  },
  {
   "cell_type": "code",
   "execution_count": null,
   "metadata": {},
   "outputs": [],
   "source": [
    "%load_ext autoreload\n",
    "%autoreload 2\n",
    "%matplotlib inline\n",
    "#%config InlineBackend.figure_format = 'svg'\n",
    "#%config InlineBackend.figure_format = 'pdf'"
   ]
  },
  {
   "cell_type": "code",
   "execution_count": null,
   "metadata": {},
   "outputs": [],
   "source": [
    "import numpy as np\n",
    "import torch\n",
    "import torch.distributions as dists\n",
    "\n",
    "import kcgof\n",
    "import kcgof.log as klog\n",
    "import kcgof.util as util\n",
    "import kcgof.cdensity as cden\n",
    "import kcgof.cdata as cdat\n",
    "import kcgof.cgoftest as cgof\n",
    "import kcgof.kernel as ker\n",
    "import kcgof.plot as plot"
   ]
  },
  {
   "cell_type": "code",
   "execution_count": null,
   "metadata": {},
   "outputs": [],
   "source": [
    "import matplotlib\n",
    "import matplotlib.pyplot as plt\n",
    "\n",
    "# font options\n",
    "font = {\n",
    "    #'family' : 'normal',\n",
    "    #'weight' : 'bold',\n",
    "    'size'   : 20\n",
    "}\n",
    "\n",
    "plt.rc('font', **font)\n",
    "plt.rc('lines', linewidth=2)\n",
    "matplotlib.rcParams['pdf.fonttype'] = 42\n",
    "matplotlib.rcParams['ps.fonttype'] = 42"
   ]
  },
  {
   "cell_type": "markdown",
   "metadata": {},
   "source": [
    "#         'gaussls_h0_d5' from ex1_vary_n.py"
   ]
  },
  {
   "cell_type": "code",
   "execution_count": null,
   "metadata": {},
   "outputs": [],
   "source": [
    "dx = 5\n",
    "slope_h0_d5 = torch.arange(dx) + 1.0\n",
    "# p \n",
    "p = cden.CDGaussianOLS(slope=slope_h0_d5, c=0, variance=1.0)\n",
    "# rx\n",
    "rx = cden.RXIsotropicGaussian(dx=5)\n",
    "# CondSource for r\n",
    "cs = cdat.CSGaussianOLS(slope=slope_h0_d5, c=0, variance=1.0)"
   ]
  },
  {
   "cell_type": "code",
   "execution_count": null,
   "metadata": {},
   "outputs": [],
   "source": [
    "# data\n",
    "\n",
    "# sample Y conditioned on X\n",
    "n = 400 # sample size\n",
    "with util.TorchSeedContext(seed=18):    \n",
    "    X = rx.sample(n)\n",
    "Y = cs(X, seed=29)"
   ]
  },
  {
   "cell_type": "markdown",
   "metadata": {},
   "source": [
    "KSSD test"
   ]
  },
  {
   "cell_type": "code",
   "execution_count": null,
   "metadata": {},
   "outputs": [],
   "source": [
    "# kernels\n",
    "# k = kernel on X\n",
    "# l = kernel on Y\n",
    "# k = ker.PTKGauss(sigma2=2)\n",
    "# l = ker.PTKGauss(sigma2=1.0)\n",
    "\n",
    "sigx = util.pt_meddistance(X, subsample=600, seed=3)\n",
    "sigy = util.pt_meddistance(Y, subsample=600, seed=38)\n",
    "\n",
    "# kernels\n",
    "# k = kernel on X\n",
    "k = ker.PTKGauss(sigma2=sigx**2)\n",
    "# l = kernel on Y\n",
    "l = ker.PTKGauss(sigma2=sigy**2)"
   ]
  },
  {
   "cell_type": "code",
   "execution_count": null,
   "metadata": {
    "scrolled": true
   },
   "outputs": [],
   "source": [
    "# Construct a KSSD test object\n",
    "kssdtest = cgof.KSSDTest(p, k, l, alpha=0.05, n_bootstrap=500, seed=9)\n",
    "result = kssdtest.perform_test(X, Y, return_simulated_stats=True)\n",
    "result"
   ]
  },
  {
   "cell_type": "code",
   "execution_count": null,
   "metadata": {},
   "outputs": [],
   "source": [
    "def redraw_for_histogram(kssd, p, rx, cs, n_run, n):\n",
    "    '''\n",
    "    Repeatedly draw samples n_run times and compute the statistic.\n",
    "    Attended to be used for checking the boostrapping procedure.\n",
    "    \n",
    "    n: sample size to draw each time\n",
    "    '''\n",
    "    sts = np.zeros(n_run)\n",
    "    for t in range(n_run):\n",
    "        with util.TorchSeedContext(seed=1700+t):    \n",
    "            X = rx.sample(n)\n",
    "        Y = cs(X, seed=378+t)\n",
    "        s = kssd.compute_stat(X, Y)\n",
    "        sts[t] = s\n",
    "    return sts\n",
    "        "
   ]
  },
  {
   "cell_type": "code",
   "execution_count": null,
   "metadata": {},
   "outputs": [],
   "source": [
    "redraw_stats = redraw_for_histogram(kssdtest, p, rx, cs, n_run=2000, n=n)"
   ]
  },
  {
   "cell_type": "code",
   "execution_count": null,
   "metadata": {},
   "outputs": [],
   "source": [
    "test_stat = result['test_stat']\n",
    "plt.figure(figsize=(10, 6))\n",
    "plt.hist(result['sim_stats'], density=True, label='Bootstrapped', bins=20, alpha=0.5);\n",
    "plt.hist(redraw_stats, density=True, label='Redraw', bins=20, alpha=0.5);\n",
    "# plt.stem([test_stat, test_stat], [0, 0.002], 'r', label='Observed', use_line_collection=True)\n",
    "plt.xlabel('KSSD statistic')\n",
    "plt.legend()\n",
    "\n",
    "print('H0 rejected?: {}'.format(result['h0_rejected']))\n",
    "print('Observed stat: {:.3f}'.format(result['test_stat']))\n",
    "print('n = {}'.format(n))"
   ]
  },
  {
   "cell_type": "code",
   "execution_count": null,
   "metadata": {},
   "outputs": [],
   "source": []
  },
  {
   "cell_type": "code",
   "execution_count": null,
   "metadata": {},
   "outputs": [],
   "source": []
  },
  {
   "cell_type": "code",
   "execution_count": null,
   "metadata": {},
   "outputs": [],
   "source": []
  }
 ],
 "metadata": {
  "kernelspec": {
   "display_name": "Python 3",
   "language": "python",
   "name": "python3"
  },
  "language_info": {
   "codemirror_mode": {
    "name": "ipython",
    "version": 3
   },
   "file_extension": ".py",
   "mimetype": "text/x-python",
   "name": "python",
   "nbconvert_exporter": "python",
   "pygments_lexer": "ipython3",
   "version": "3.7.7"
  }
 },
 "nbformat": 4,
 "nbformat_minor": 4
}
