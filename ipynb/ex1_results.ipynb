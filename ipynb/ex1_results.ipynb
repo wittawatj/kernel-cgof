{
 "cells": [
  {
   "cell_type": "markdown",
   "metadata": {
    "collapsed": true
   },
   "source": [
    "A notebook to process experimental results of ex1_vary_n.py: Rejection rate as sample size $n$ increases."
   ]
  },
  {
   "cell_type": "code",
   "execution_count": null,
   "metadata": {},
   "outputs": [],
   "source": [
    "%load_ext autoreload\n",
    "%autoreload 2\n",
    "%matplotlib inline\n",
    "#%config InlineBackend.figure_format = 'svg'\n",
    "#%config InlineBackend.figure_format = 'pdf'\n",
    "\n",
    "import numpy as np\n",
    "import scipy.stats as stats\n",
    "\n",
    "import torch\n",
    "import torch.distributions as dists\n",
    "\n",
    "import kcgof\n",
    "import kcgof.log as klog\n",
    "import kcgof.util as util\n",
    "import kcgof.cdensity as cden\n",
    "import kcgof.cdata as cdat\n",
    "import kcgof.cgoftest as cgof\n",
    "import kcgof.kernel as ker\n",
    "import kcgof.plot as plot"
   ]
  },
  {
   "cell_type": "code",
   "execution_count": null,
   "metadata": {},
   "outputs": [],
   "source": [
    "import matplotlib\n",
    "import matplotlib.pyplot as plt\n",
    "\n",
    "# font options\n",
    "font = {\n",
    "    #'family' : 'normal',\n",
    "    #'weight' : 'bold',\n",
    "    'size'   : 20\n",
    "}\n",
    "\n",
    "plt.rc('font', **font)\n",
    "plt.rc('lines', linewidth=2)\n",
    "matplotlib.rcParams['pdf.fonttype'] = 42\n",
    "matplotlib.rcParams['ps.fonttype'] = 42"
   ]
  },
  {
   "cell_type": "markdown",
   "metadata": {},
   "source": [
    "---------------"
   ]
  },
  {
   "cell_type": "code",
   "execution_count": null,
   "metadata": {},
   "outputs": [],
   "source": [
    "def load_plot_vs_ns(fname, show_legend=True, xscale='linear', yscale='linear'):\n",
    "    \"\"\"\n",
    "    ns = sample sizes\n",
    "    \"\"\"\n",
    "    func_xvalues = lambda agg_results: agg_results['ns']\n",
    "    ex = 1\n",
    "    def func_title(agg_results):\n",
    "        repeats, _, n_methods = agg_results['job_results'].shape\n",
    "        alpha = agg_results['alpha']\n",
    "        title = '%s. %d trials. $\\\\alpha$ = %.2g.'%\\\n",
    "            ( agg_results['prob_label'], repeats, alpha)\n",
    "        return title\n",
    "    #plt.figure(figsize=(10,5))\n",
    "    results = plot.plot_prob_reject(\n",
    "        ex, fname, func_xvalues, '', func_title=func_title)\n",
    "    \n",
    "    plt.title('')\n",
    "    \n",
    "    if xscale is not None:\n",
    "        plt.xscale(xscale)\n",
    "    if yscale is not None:\n",
    "        plt.yscale(yscale)\n",
    "    \n",
    "    plt.xlabel('Sample size $n$')\n",
    "    plt.gca().legend(loc='best').set_visible(show_legend)\n",
    "    if show_legend:\n",
    "        plt.legend(bbox_to_anchor=(1.0, 1.05))\n",
    "        \n",
    "    plt.grid(False)\n",
    "    return results"
   ]
  },
  {
   "cell_type": "code",
   "execution_count": null,
   "metadata": {},
   "outputs": [],
   "source": [
    "# def load_runtime_vs_ns(fname, xlabel='Sample size $n$', \n",
    "#                       show_legend=True, xscale='linear', yscale='linear'):\n",
    "#     func_xvalues = lambda agg_results: agg_results['ns']\n",
    "#     ex = 1\n",
    "#     def func_title(agg_results):\n",
    "#         repeats, _, n_methods = agg_results['job_results'].shape\n",
    "#         alpha = agg_results['alpha']\n",
    "#         title = '%s. %d trials. $\\\\alpha$ = %.2g.'%\\\n",
    "#             ( agg_results['prob_label'], repeats, alpha)\n",
    "#         return title\n",
    "#     #plt.figure(figsize=(10,6))\n",
    "    \n",
    "#     results = plot.plot_runtime(ex, fname,  \n",
    "#                                 func_xvalues, xlabel=xlabel, func_title=func_title)\n",
    "    \n",
    "#     plt.title('')\n",
    "#     plt.gca().legend(loc='best').set_visible(show_legend)\n",
    "#     if show_legend:\n",
    "#         plt.legend(bbox_to_anchor=(1.0, 1.05))\n",
    "    \n",
    "#     #plt.grid(True)\n",
    "#     if xscale is not None:\n",
    "#         plt.xscale(xscale)\n",
    "#     if yscale is not None:\n",
    "#         plt.yscale(yscale)\n",
    "#     return results"
   ]
  },
  {
   "cell_type": "markdown",
   "metadata": {},
   "source": [
    "----------"
   ]
  },
  {
   "cell_type": "markdown",
   "metadata": {},
   "source": [
    "## 5D Gaussian problem. H0 is true"
   ]
  },
  {
   "cell_type": "code",
   "execution_count": null,
   "metadata": {},
   "outputs": [],
   "source": [
    "gauss5d_h0_fname = 'ex1-gaussls_h0_d5-me2_rs20_nmi100_nma900_a0.050.p'\n",
    "gauss5d_h0_results = load_plot_vs_ns(gauss5d_h0_fname, show_legend=True)\n",
    "# plt.grid()\n",
    "# plt.yticks([0, 0.025, 0.05, 0.075, 0.1])\n",
    "# plt.savefig(gauss5d_h0_fname.replace('.p', '.pdf', 1), bbox_inches='tight')"
   ]
  },
  {
   "cell_type": "markdown",
   "metadata": {},
   "source": [
    "------------"
   ]
  },
  {
   "cell_type": "markdown",
   "metadata": {},
   "source": [
    "## Blobs 2d"
   ]
  },
  {
   "cell_type": "code",
   "execution_count": null,
   "metadata": {
    "scrolled": false
   },
   "outputs": [],
   "source": [
    "# # fname = 'ex1-gmm_blobs_d2-me5_rs300_nmi300_nma2700_a0.050.p'\n",
    "# # fname = 'ex1-gmm_blobs_d2-me5_rs300_nmi300_nma3300_a0.050.p'\n",
    "# fname = 'ex1-gmm_blobs_d2-me5_rs300_nmi317_nma7944_a0.050.p'\n",
    "# # fname = 'ex1-gmm_blobs_d2-me8_rs100_nmi300_nma2700_a0.050.p'\n",
    "\n",
    "# # fname = 'ex1-gmm_blobs_d2-me7_rs100_nmi300_nma2700_a0.050.p'\n",
    "# load_plot_vs_ns(fname, show_legend=False, xscale='log')\n",
    "# # plt.legend(ncol=5, bbox_to_anchor=(0, 2))\n",
    "# # plt.xticks([300, 900, 1500, 2100, 2700])\n",
    "\n",
    "# # xticks = 2**np.array([ 8, 9, 10, 11, 12, 13, 14, 15])\n",
    "# # xticklabels = ['$2^{' + str(t) + '}$' for t in range(8,15+1)]\n",
    "\n",
    "# # xticks = [1e2, 1e3, 5e3, 1e4]\n",
    "# # xticklabels = ['$10^2$', '$10^3$', '$5\\cdot 10^3$', '$10^4$']\n",
    "\n",
    "# # https://stackoverflow.com/questions/10171618/changing-plot-scale-by-a-factor-in-matplotlib/17816809\n",
    "# import matplotlib.ticker as ticker\n",
    "# ticks_x = ticker.FuncFormatter(lambda x, pos: '{0:g}'.format(x/1e3))\n",
    "# xticks = [300,  1000, 2000, 3000, 5000,  8000]\n",
    "\n",
    "# ax = plt.gca()\n",
    "# ax.xaxis.set_major_formatter(ticks_x)\n",
    "# # xticklabels = xticks\n",
    "# plt.xticks(xticks, fontsize=28)\n",
    "# plt.xlim([256, 10**4])\n",
    "# plt.xlabel(r'Sample size $n$  $(\\times 10^3)$')\n",
    "# plt.savefig(fname.replace('.p', '.pdf', 1), bbox_inches='tight')"
   ]
  },
  {
   "cell_type": "code",
   "execution_count": null,
   "metadata": {},
   "outputs": [],
   "source": [
    "# load_runtime_vs_ns(fname, show_legend=False, xscale='log', yscale='log');\n",
    "# ax = plt.gca()\n",
    "# ax.xaxis.set_major_formatter(ticks_x)\n",
    "\n",
    "# plt.xticks(xticks, fontsize=28)\n",
    "# plt.yticks(np.logspace(-1, 2, 4))\n",
    "# plt.xlim([256, 10**4])\n",
    "# plt.xlabel(r'Sample size $n$  $(\\times 10^3)$')\n",
    "# # plt.xticks([300, 900, 1500, 2100, 2700, 3300])\n",
    "# plt.savefig(fname.replace('.p', '_time.pdf', 1), bbox_inches='tight', \n",
    "#            show_legend=False)"
   ]
  },
  {
   "cell_type": "markdown",
   "metadata": {},
   "source": [
    "-----------"
   ]
  },
  {
   "cell_type": "code",
   "execution_count": null,
   "metadata": {},
   "outputs": [],
   "source": []
  },
  {
   "cell_type": "code",
   "execution_count": null,
   "metadata": {},
   "outputs": [],
   "source": []
  },
  {
   "cell_type": "code",
   "execution_count": null,
   "metadata": {},
   "outputs": [],
   "source": []
  },
  {
   "cell_type": "code",
   "execution_count": null,
   "metadata": {},
   "outputs": [],
   "source": []
  }
 ],
 "metadata": {
  "anaconda-cloud": {},
  "kernelspec": {
   "display_name": "Python 3",
   "language": "python",
   "name": "python3"
  },
  "language_info": {
   "codemirror_mode": {
    "name": "ipython",
    "version": 3
   },
   "file_extension": ".py",
   "mimetype": "text/x-python",
   "name": "python",
   "nbconvert_exporter": "python",
   "pygments_lexer": "ipython3",
   "version": "3.8.1"
  }
 },
 "nbformat": 4,
 "nbformat_minor": 1
}
