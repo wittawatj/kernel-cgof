{
 "cells": [
  {
   "cell_type": "markdown",
   "metadata": {
    "collapsed": true
   },
   "source": [
    "A notebook to process experimental results of ex1_vary_n.py: Rejection rate as sample size $n$ increases."
   ]
  },
  {
   "cell_type": "code",
   "execution_count": null,
   "metadata": {},
   "outputs": [],
   "source": [
    "%load_ext autoreload\n",
    "%autoreload 2\n",
    "%matplotlib inline\n",
    "#%config InlineBackend.figure_format = 'svg'\n",
    "#%config InlineBackend.figure_format = 'pdf'\n",
    "\n",
    "import numpy as np\n",
    "import scipy.stats as stats\n",
    "\n",
    "import torch\n",
    "import torch.distributions as dists\n",
    "\n",
    "import kcgof\n",
    "import kcgof.log as klog\n",
    "import kcgof.util as util\n",
    "import kcgof.cdensity as cden\n",
    "import kcgof.cdata as cdat\n",
    "import kcgof.cgoftest as cgof\n",
    "import kcgof.kernel as ker\n",
    "import kcgof.plot as plot"
   ]
  },
  {
   "cell_type": "code",
   "execution_count": null,
   "metadata": {},
   "outputs": [],
   "source": [
    "import matplotlib\n",
    "import matplotlib.pyplot as plt\n",
    "\n",
    "# font options\n",
    "font = {\n",
    "    #'family' : 'normal',\n",
    "    #'weight' : 'bold',\n",
    "    'size'   : 30\n",
    "}\n",
    "\n",
    "plt.rc('font', **font)\n",
    "plt.rc('lines', linewidth=3)\n",
    "matplotlib.rcParams['text.usetex'] = True\n",
    "matplotlib.rcParams['pdf.fonttype'] = 42\n",
    "matplotlib.rcParams['ps.fonttype'] = 42"
   ]
  },
  {
   "cell_type": "markdown",
   "metadata": {},
   "source": [
    "---------------"
   ]
  },
  {
   "cell_type": "code",
   "execution_count": null,
   "metadata": {},
   "outputs": [],
   "source": [
    "def load_plot_vs_ns(fname, show_legend=True, xscale='linear', yscale='linear'):\n",
    "    \"\"\"\n",
    "    ns = sample sizes\n",
    "    \"\"\"\n",
    "    func_xvalues = lambda agg_results: agg_results['ns']\n",
    "    ex = 1\n",
    "    def func_title(agg_results):\n",
    "        repeats, _, n_methods = agg_results['job_results'].shape\n",
    "        alpha = agg_results['alpha']\n",
    "        title = '%s. %d trials. $\\\\alpha$ = %.2g.'%\\\n",
    "            ( agg_results['prob_label'], repeats, alpha)\n",
    "        return title\n",
    "    #plt.figure(figsize=(10,5))\n",
    "    results = plot.plot_prob_reject(\n",
    "        ex, fname, func_xvalues, '', func_title=func_title)\n",
    "    \n",
    "    plt.title('')\n",
    "    \n",
    "    if xscale is not None:\n",
    "        plt.xscale(xscale)\n",
    "    if yscale is not None:\n",
    "        plt.yscale(yscale)\n",
    "    \n",
    "    plt.xlabel('Sample size $n$')\n",
    "    plt.gca().legend(loc='best').set_visible(show_legend)\n",
    "    if show_legend:\n",
    "        plt.legend(bbox_to_anchor=(1.0, 1.05))\n",
    "        \n",
    "    plt.grid(False)\n",
    "    return results"
   ]
  },
  {
   "cell_type": "markdown",
   "metadata": {},
   "source": [
    "----------"
   ]
  },
  {
   "cell_type": "markdown",
   "metadata": {},
   "source": [
    "## 3d Gaussian problem. H0 is true\n"
   ]
  },
  {
   "cell_type": "code",
   "execution_count": null,
   "metadata": {},
   "outputs": [],
   "source": [
    "gauss3d_h0_fname = 'ex1-gaussls_h0_d3-me7_rs300_nmi400_nma2000_a0.050.p'\n",
    "gauss3d_h0_results = load_plot_vs_ns(gauss3d_h0_fname, show_legend=False)\n",
    "# plt.grid()\n",
    "# plt.yticks([0, 0.025, 0.05, 0.075, 0.1])\n",
    "\n",
    "# plt.legend(ncol=1, loc='lower left', bbox_to_anchor=(0, 1.2))\n",
    "plt.xticks([400, 800, 1200, 1600, 2000])\n",
    "plt.savefig(gauss3d_h0_fname.replace('.p', '.pdf', 1), bbox_inches='tight')"
   ]
  },
  {
   "cell_type": "markdown",
   "metadata": {},
   "source": [
    "## 5D Gaussian problem. H0 is true"
   ]
  },
  {
   "cell_type": "code",
   "execution_count": null,
   "metadata": {},
   "outputs": [],
   "source": [
    "gauss5d_h0_fname = 'ex1-gaussls_h0_d5-me5_rs70_nmi200_nma500_a0.050.p'\n",
    "\n",
    "gauss5d_h0_results = load_plot_vs_ns(gauss5d_h0_fname, show_legend=True)\n",
    "# plt.grid()\n",
    "# plt.yticks([0, 0.025, 0.05, 0.075, 0.1])\n",
    "\n",
    "# plt.legend(ncol=3, loc='lower left', bbox_to_anchor=(0, 1.2))\n",
    "plt.savefig(gauss5d_h0_fname.replace('.p', '.pdf', 1), bbox_inches='tight')"
   ]
  },
  {
   "cell_type": "markdown",
   "metadata": {},
   "source": [
    "## Quad quad d1"
   ]
  },
  {
   "cell_type": "code",
   "execution_count": null,
   "metadata": {},
   "outputs": [],
   "source": [
    "# qq_d1_fname = 'ex1-quad_quad_d1-me1_rs40_nmi100_nma500_a0.050.p'\n",
    "# qq_d1_results = load_plot_vs_ns(qq_d1_fname, show_legend=True)"
   ]
  },
  {
   "cell_type": "markdown",
   "metadata": {},
   "source": [
    "## quad_vs_lin_d1\n"
   ]
  },
  {
   "cell_type": "code",
   "execution_count": null,
   "metadata": {},
   "outputs": [],
   "source": [
    "\n",
    "quad_vs_lin_d1_fname = 'ex1-quad_vs_lin_d1-me7_rs300_nmi100_nma1000_a0.050.p'\n",
    "quad_vs_lin_d1_results = load_plot_vs_ns(quad_vs_lin_d1_fname, show_legend=False)\n",
    "plt.xticks([100, 400, 700, 1000])\n",
    "plt.savefig(quad_vs_lin_d1_fname.replace('.p', '.pdf', 1), bbox_inches='tight')"
   ]
  },
  {
   "cell_type": "markdown",
   "metadata": {},
   "source": [
    "------------"
   ]
  },
  {
   "cell_type": "markdown",
   "metadata": {},
   "source": [
    "## g_het_dx3"
   ]
  },
  {
   "cell_type": "code",
   "execution_count": null,
   "metadata": {},
   "outputs": [],
   "source": [
    "\n",
    "g_het_dx3_fname = 'ex1-g_het_dx3-me7_rs300_nmi300_nma1500_a0.050.p'\n",
    "g_het_dx3_results = load_plot_vs_ns(g_het_dx3_fname, show_legend=False)\n",
    "plt.xticks(    [300, 700, 1100, 1500])\n",
    "plt.savefig(g_het_dx3_fname.replace('.p', '.pdf', 1), bbox_inches='tight')"
   ]
  },
  {
   "cell_type": "code",
   "execution_count": null,
   "metadata": {},
   "outputs": [],
   "source": []
  },
  {
   "cell_type": "code",
   "execution_count": null,
   "metadata": {},
   "outputs": [],
   "source": []
  },
  {
   "cell_type": "code",
   "execution_count": null,
   "metadata": {},
   "outputs": [],
   "source": []
  },
  {
   "cell_type": "code",
   "execution_count": null,
   "metadata": {},
   "outputs": [],
   "source": []
  },
  {
   "cell_type": "code",
   "execution_count": null,
   "metadata": {},
   "outputs": [],
   "source": []
  },
  {
   "cell_type": "code",
   "execution_count": null,
   "metadata": {},
   "outputs": [],
   "source": []
  },
  {
   "cell_type": "code",
   "execution_count": null,
   "metadata": {},
   "outputs": [],
   "source": []
  }
 ],
 "metadata": {
  "anaconda-cloud": {},
  "kernelspec": {
   "display_name": "Python 3",
   "language": "python",
   "name": "python3"
  },
  "language_info": {
   "codemirror_mode": {
    "name": "ipython",
    "version": 3
   },
   "file_extension": ".py",
   "mimetype": "text/x-python",
   "name": "python",
   "nbconvert_exporter": "python",
   "pygments_lexer": "ipython3",
   "version": "3.7.7"
  }
 },
 "nbformat": 4,
 "nbformat_minor": 1
}
