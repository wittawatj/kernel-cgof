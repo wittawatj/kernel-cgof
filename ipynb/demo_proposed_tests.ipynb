{
 "cells": [
  {
   "cell_type": "markdown",
   "metadata": {},
   "source": [
    "This notebook will introduce you to `kcgof` (kernel conditional goodness-of-fit testing), a Python package implementing two kernel-based conditional goodness-of-fit tests as described in\n",
    "\n",
    "    Testing Goodness of Fit of Conditional Density Models with Kernels\n",
    "    Wittawat Jitkrittum, Heishiro Kanagawa, Bernhard Schölkopf\n",
    "    UAI 2020\n",
    "    https://arxiv.org/abs/2002.10271\n",
    "\n",
    "See [the Github page](https://github.com/wittawatj/kernel-cgof) for more information.\n",
    "\n",
    "Make sure that you have `kcgof` included in Python's search path. In particular the following import statements should not produce any fatal error. For how to install software dependencies, see the [README](https://github.com/wittawatj/kernel-cgof). In our code, we use [Pytorch](https://pytorch.org/)."
   ]
  },
  {
   "cell_type": "code",
   "execution_count": 1,
   "metadata": {},
   "outputs": [],
   "source": [
    "%load_ext autoreload\n",
    "%autoreload 2\n",
    "%matplotlib inline"
   ]
  },
  {
   "cell_type": "code",
   "execution_count": 2,
   "metadata": {},
   "outputs": [],
   "source": [
    "import numpy as np\n",
    "import torch\n",
    "\n",
    "import kcgof\n",
    "import kcgof.log as klog\n",
    "import kcgof.util as util\n",
    "import kcgof.cdensity as cden\n",
    "import kcgof.cdata as cdat\n",
    "import kcgof.cgoftest as cgof\n",
    "import kcgof.kernel as ker\n",
    "import kcgof.plot as plot"
   ]
  },
  {
   "cell_type": "code",
   "execution_count": 3,
   "metadata": {},
   "outputs": [],
   "source": [
    "import matplotlib\n",
    "import matplotlib.pyplot as plt\n",
    "\n",
    "# font options\n",
    "font = {\n",
    "    #'family' : 'normal',\n",
    "    #'weight' : 'bold',\n",
    "    'size'   : 20\n",
    "}\n",
    "\n",
    "plt.rc('font', **font)\n",
    "plt.rc('lines', linewidth=2)\n",
    "matplotlib.rcParams['pdf.fonttype'] = 42\n",
    "matplotlib.rcParams['ps.fonttype'] = 42"
   ]
  },
  {
   "cell_type": "markdown",
   "metadata": {},
   "source": [
    "## Conditional Goodness-of-fit testing\n",
    "\n",
    "Given a known conditional density model $p(y|x)$ and a sample $\\{ (x_i, y_i) \\}_{i=1}^n \\sim r(y|x) r_x(x)$ where $q$ is the true (unknown) conditional distribution generating the data, and $r$ is the marginal distribution for $x$, a conditional goodness-of-fit test proposes the following null hypothesis\n",
    "\n",
    "$H_0: p(y|x) = r(y|x) \\, \\text{for almost all}\\, x,y$ \n",
    "\n",
    "against the alternative hypothesis $H_1$ which is simply the negation of $H_0$.\n",
    "\n",
    "In other words, it tests whether or not the sample follows the model $p(y|x)$, for some marginal distribution $r$. Note that the model does not specify the marginal distribution $r_x$."
   ]
  },
  {
   "cell_type": "markdown",
   "metadata": {},
   "source": [
    "## Our work\n",
    "\n",
    "We propose two new tests: \n",
    "\n",
    "1. The Kernel Conditional Stein Discrepancy (KCSD)\n",
    "2. The Finite Set Conditional Discrepancy (FSCD)\n",
    "\n",
    "The KCSD test makes a few mild assumptions on the distributions $p$ and $r$. \n",
    "The model $p(y|x)$ can take almost any form as long as it is differentiable. \n",
    "The normalizer of $p(y|x)$ (which is $p(x)$) is not assumed known. \n",
    "The test only assesses the goodness of the model through $\\nabla_{y} \\log p(y|x)$ i.e., the first derivative of the log conditional density. The FSCD is an extention of KCSD to return an interpretable set of locations in the space of $x$ that indicate where $p(y|x)$ differs from $r(y|x)$.\n"
   ]
  },
  {
   "cell_type": "markdown",
   "metadata": {},
   "source": [
    "### Specifying your model $p(y|x)$\n",
    "\n",
    "In our code, a model $p(y|x)$ is represented as an instance of class `kcgof.cdensity.UnnormalizedCondModel`. You can subclass this class and implement your model. Alternatively, you can represent your model by the following convenient method that will construct an instance of this class for you.\n",
    "\n",
    "        kcgof.cdensity.from_log_den(dx, dy, f)\n",
    "        \n",
    "where:\n",
    "* `dx` is the dimension of x (positive integer)\n",
    "* `dy` is the dimension of y (positive integer)\n",
    "* `f` is a callable (e.g., a function) that takes two arguments `(X, Y)`, where X: n x dx, Y: n x dy Torch tensors, and evaluates the unnormalized conditional density of the model i.e., p(x,y) (up to any multiplicative factor that is a function of x). Return a Torch array of length n, representing $[ c(x_1) \\cdot p(x_1, y_1), \\ldots, c(x_n) \\cdot p(x_n, y_n)]$ where $\\{(x_i, y_i) \\}_{i=1}^n$ are points in `(X,Y)`, and $c(x_i)$ can be any non-zero scalar that depends only on $x_i$ (i.e., can also set to 1).\n",
    "    "
   ]
  },
  {
   "cell_type": "markdown",
   "metadata": {},
   "source": [
    "## Ordinary least squares with Gaussian noise\n",
    "\n",
    "\n",
    "For illustration, let us consider a simple one-dimensional ($d_x=1, d_y=1$) toy problem. Suppose our model is\n",
    "\n",
    "$$p(y|x) = \\mathcal{N}(y \\mid slope \\cdot x+c, variance),$$\n",
    "\n",
    "for some $slope \\in \\mathbb{R}$, $c \\in \\mathbb{R}$, and $variance >0$. This is the standard least squares problem with Gaussian noise. \n",
    "In general, our tests can be applied to $x \\in \\mathbb{R}^{d_x}$ and $\\mathbb{R}^{d_y}$ where $d_x \\ge 1$ and $d_y \\ge 1$."
   ]
  },
  {
   "cell_type": "markdown",
   "metadata": {},
   "source": [
    "In this case, to specify the model, we first implement a function that computes the log density of the model, up to the normalizer. In this case, that would be \n",
    "\n",
    "$$\\log p(y|x) = - \\frac{(y - (slope\\cdot x + c))^2}{2 \\times variance} + \\text{omitted constant}.$$\n",
    "\n",
    "Note that the normalizer of the Gaussian density is dropped here. In general, any multiplicative factor on the density function $p(y|x)$ that is independent of $y$ can be dropped. The reason is that our tests only use $\\nabla_y \\log p(y|x) = \\nabla_y \\log p(x, y)$. So any multiplicative factor will be irrelevant once the derivative $\\nabla_y$ is computed. The derivative will be computed automatically."
   ]
  },
  {
   "cell_type": "code",
   "execution_count": 4,
   "metadata": {},
   "outputs": [],
   "source": [
    "# First define a function that implements the log density up to the normalizer\n",
    "def simple_gaussian_model(X, Y):    \n",
    "    # Some arbitrary model parameters here only for illustration.\n",
    "    # In practice, any model parameters are likely learned from \n",
    "    # an independent set of data before testing.\n",
    "    slope = torch.tensor([1.0])\n",
    "    c = 1.0\n",
    "    variance = 1.0\n",
    "    \n",
    "    # Note that X (n x dx), Y (n x dy) are Torch tensors\n",
    "    linear = torch.matmul(X, slope) + c\n",
    "    \n",
    "    # Note that this normalizing constant is not necessary. \n",
    "    # Try to set it to an arbitrary value to see that the test result does not change.\n",
    "#     constant = -np.log(variance**0.5) - (2.0*np.pi)**0.5\n",
    "    constant = 0\n",
    "    # Return a one-dimensional Torch array\n",
    "    return -(Y.view(-1)-linear)**2/(2.0*variance) + constant "
   ]
  },
  {
   "cell_type": "code",
   "execution_count": 5,
   "metadata": {},
   "outputs": [],
   "source": [
    "dx = 1 # dimension of x. \n",
    "dy = 1\n",
    "# Model p(y|x)\n",
    "p = cden.from_log_den(dx, dy, simple_gaussian_model)"
   ]
  },
  {
   "cell_type": "markdown",
   "metadata": {},
   "source": [
    "Model p is an instance of `kcgof.cdensity.UnnormalizedCondModel` and is ready for conditional goodness-of-fit testing."
   ]
  },
  {
   "cell_type": "markdown",
   "metadata": {},
   "source": [
    "### A toy problem"
   ]
  },
  {
   "cell_type": "markdown",
   "metadata": {},
   "source": [
    "To illustrate the test, let us generate some toy data."
   ]
  },
  {
   "cell_type": "code",
   "execution_count": 6,
   "metadata": {},
   "outputs": [],
   "source": [
    "# import torch.distributions as dists\n",
    "np.random.seed(10)\n",
    "# true slope. Note that this slope is different from the one in the model above.\n",
    "# That is, our model has a wrong slope.\n",
    "real_slope = torch.tensor([1.3])\n",
    "# true variance\n",
    "real_variance = 1.0\n",
    "# true c\n",
    "real_c = torch.tensor([1.0])\n",
    "\n",
    "# sample size\n",
    "n = 500 \n",
    "X = torch.tensor(np.random.randn(n, dx)*2.0, dtype=torch.float32)\n",
    "linear = torch.matmul(X, real_slope) + real_c\n",
    "output_noise = np.random.randn(n)*real_variance**0.5\n",
    "Y = linear + output_noise\n",
    "Y = Y.view(n, dy).type(torch.float32)"
   ]
  },
  {
   "cell_type": "code",
   "execution_count": 7,
   "metadata": {},
   "outputs": [
    {
     "name": "stdout",
     "output_type": "stream",
     "text": [
      "X.shape: torch.Size([500, 1])\n",
      "Y.shape: torch.Size([500, 1])\n"
     ]
    }
   ],
   "source": [
    "print('X.shape: {}'.format(X.shape))\n",
    "print('Y.shape: {}'.format(Y.shape))"
   ]
  },
  {
   "cell_type": "markdown",
   "metadata": {},
   "source": [
    "Plot the data and the model"
   ]
  },
  {
   "cell_type": "code",
   "execution_count": 8,
   "metadata": {},
   "outputs": [],
   "source": [
    "def plot_2d_data_model(p, X, Y, domX, domY, figsize=(10, 6), levels=20,\n",
    "    cmap='pink_r', **contourop ):\n",
    "    \"\"\"\n",
    "    Plot the conditional density model p(y|x) along with the data on a 2d plot.\n",
    "    Both x, and y must be scalar-valued. \n",
    "    p: cdensity.UnnormalizedCondDensity object representing the model p(y|x)\n",
    "    X, Y: n x 1 torch tensors for the data of x and y\n",
    "    domX: n x 1 torch tensor specifying points to plot in the domain of x\n",
    "    domY: n x 1 torch tensor specifying points to plot in the domain of y\n",
    "    \n",
    "    \"\"\"\n",
    "    mdomX, mdomY = torch.meshgrid(domX.view(-1), domY.view(-1))\n",
    "    flatlogden = p.log_den(mdomX.reshape(-1, 1), mdomY.reshape(-1, 1))\n",
    "    flatden = torch.exp(flatlogden)\n",
    "    # for the purpose of plotting, if the density is Nan, make it 0\n",
    "    flatden[torch.isnan(flatden)] = 0.0\n",
    "    mden = flatden.view(mdomX.shape)\n",
    "\n",
    "    np_mdomX = mdomX.detach().numpy()\n",
    "    np_mdomY = mdomY.detach().numpy()\n",
    "    np_mden = mden.detach().numpy()\n",
    "\n",
    "    plt.contourf(np_mdomX, np_mdomY, np_mden, levels=levels, cmap=cmap,\n",
    "        **contourop)\n",
    "    npX = X.detach().numpy()\n",
    "    npY = Y.detach().numpy()\n",
    "    plt.plot(npX, npY, 'bo', markersize=3)\n",
    "    plt.ylabel('p(y|x)')\n",
    "    plt.xlabel('x')\n",
    "    # plt.colorbar()"
   ]
  },
  {
   "cell_type": "code",
   "execution_count": 9,
   "metadata": {},
   "outputs": [
    {
     "data": {
      "image/png": "[encoded data removed]",
      "text/plain": [
       "<Figure size 432x288 with 1 Axes>"
      ]
     },
     "metadata": {
      "needs_background": "light"
     },
     "output_type": "display_data"
    }
   ],
   "source": [
    "ep = 0.7\n",
    "# make a grid that covers X\n",
    "domX = torch.linspace(torch.min(X)-ep, torch.max(X)+ep, 100)\n",
    "domY = torch.linspace(torch.min(Y).item()-ep, torch.max(Y).item()+ep, 200)\n",
    "\n",
    "plot_2d_data_model(p, X, Y, domX, domY)"
   ]
  },
  {
   "cell_type": "markdown",
   "metadata": {},
   "source": [
    "Note that our model is slightly wrong since it has a wrong slope."
   ]
  },
  {
   "cell_type": "markdown",
   "metadata": {},
   "source": [
    "### The Kernel Conditional Stein Discrepancy (KCSD) Test"
   ]
  },
  {
   "cell_type": "code",
   "execution_count": 10,
   "metadata": {},
   "outputs": [],
   "source": [
    "# Our test requires two positive definite kernels: \n",
    "# one for x (denoted by k), the other one for y (denoted by l).\n",
    "# Use Gaussian kernels for both X and Y.\n",
    "\n",
    "# Let us use the median heuristic to pick the Gaussian bandwidths.\n",
    "sigx = util.pt_meddistance(X, subsample=1000, seed=2)\n",
    "sigy = util.pt_meddistance(Y, subsample=1000, seed=3)\n",
    "        \n",
    "# k = kernel on X. PTKGauss takes width **squared**.\n",
    "k = ker.PTKGauss(sigma2=sigx**2)\n",
    "\n",
    "# l = kernel on Y\n",
    "l = ker.PTKGauss(sigma2=sigy**2)"
   ]
  },
  {
   "cell_type": "code",
   "execution_count": 11,
   "metadata": {},
   "outputs": [],
   "source": [
    "# Construct a KCSD test object\n",
    "# alpha = significant level for the test\n",
    "# n_bootstrap = the number of times to run wild bootstrap to simulate \n",
    "# the null distribution. The larger, the better. \n",
    "# But reasonable to use a few hundreds at least.\n",
    "# The model p is used here to construct the test along with kernels k, l.\n",
    "kcsdtest = cgof.KCSDTest(p, k, l, alpha=0.05, n_bootstrap=500)"
   ]
  },
  {
   "cell_type": "code",
   "execution_count": 12,
   "metadata": {},
   "outputs": [
    {
     "data": {
      "text/plain": [
       "{'alpha': 0.05,\n",
       " 'pvalue': 0.0,\n",
       " 'test_stat': 20.956090927124023,\n",
       " 'h0_rejected': True,\n",
       " 'n_simulate': 500,\n",
       " 'time_secs': 0.41530394554138184}"
      ]
     },
     "execution_count": 12,
     "metadata": {},
     "output_type": "execute_result"
    }
   ],
   "source": [
    "# perform the actual test on the data.\n",
    "# The data (X,Y) are used here. Result is a dictionary.\n",
    "result = kcsdtest.perform_test(X, Y)\n",
    "result"
   ]
  },
  {
   "cell_type": "markdown",
   "metadata": {},
   "source": [
    "It can be seen that the test rejects $H_0$ (i.e., `h0_rejected: True`) since the model is wrong. \n"
   ]
  },
  {
   "cell_type": "markdown",
   "metadata": {},
   "source": [
    "## Specifying the model $p(y|x)$ with $\\nabla_y \\log p(y|x)$\n",
    "\n",
    "As mentioned, our tests rely on $\\nabla_y \\log p(y|x)$. If your model is such that it is easier to specify $\\nabla_y \\log p(y|x)$ directly (rather than $p(y|x)$) or you are sure that the automatic differentiable may not be efficient for your model, you can manually specify $\\nabla_y \\log p(y|x)$ as well."
   ]
  },
  {
   "cell_type": "markdown",
   "metadata": {},
   "source": [
    "Using the same as example from above, our model is \n",
    "\n",
    "$$p(y|x) = \\mathcal{N}(y \\mid slope \\cdot x+c, variance).$$\n",
    "\n",
    "So,\n",
    "\n",
    "\n",
    "$$\\nabla_y \\log p(y|x) = - \\frac{y - (slope\\cdot x + c)}{variance}.$$\n"
   ]
  },
  {
   "cell_type": "code",
   "execution_count": 13,
   "metadata": {},
   "outputs": [],
   "source": [
    "# Define a function that implements this score function \n",
    "# (the gradient of the log density above).\n",
    "def simple_gaussian_model_score(X, Y):    \n",
    "    slope = torch.tensor([1.0])\n",
    "    c = 1.0\n",
    "    variance = 1.0\n",
    "    \n",
    "    # Note that X (n x dx), Y (n x dy) are Torch tensors\n",
    "    linear = torch.matmul(X, slope) + c\n",
    "    \n",
    "    # Return an n x dy Torch array.\n",
    "    return -(Y-linear.view(-1, 1))/variance"
   ]
  },
  {
   "cell_type": "markdown",
   "metadata": {},
   "source": [
    "To construct the model $p$, use\n",
    "\n",
    "         kcgof.cdensity.from_grad_log(dx, dy, g)"
   ]
  },
  {
   "cell_type": "code",
   "execution_count": 14,
   "metadata": {},
   "outputs": [],
   "source": [
    "# Model p(y|x)\n",
    "p1 = cden.from_grad_log(dx, dy, simple_gaussian_model_score)"
   ]
  },
  {
   "cell_type": "code",
   "execution_count": 15,
   "metadata": {},
   "outputs": [
    {
     "data": {
      "text/plain": [
       "{'alpha': 0.05,\n",
       " 'pvalue': 0.0,\n",
       " 'test_stat': 20.956090927124023,\n",
       " 'h0_rejected': True,\n",
       " 'n_simulate': 500,\n",
       " 'time_secs': 0.39121222496032715}"
      ]
     },
     "execution_count": 15,
     "metadata": {},
     "output_type": "execute_result"
    }
   ],
   "source": [
    "# Perform the test with p1\n",
    "kcsdtest1 = cgof.KCSDTest(p1, k, l, alpha=0.05, n_bootstrap=500)\n",
    "result1 = kcsdtest1.perform_test(X, Y)\n",
    "result1"
   ]
  },
  {
   "cell_type": "markdown",
   "metadata": {},
   "source": [
    "For the purpose of testing in our framework, `p` and `p1` are equivalent. In most cases, perhaps specifying the model with $\\log p(y|x)$ is probably easier than $\\nabla_y \\log p(y|x)$."
   ]
  },
  {
   "cell_type": "markdown",
   "metadata": {},
   "source": [
    "\n",
    "### Exercise\n",
    "Go back and change the slope of the model (of `p` or `p1`. Or try both) to match the data generating process. Now the model is correct. With probability roughly $1-\\alpha$, the test will not reject. Try to change `c` and `variance` as well and see that the test will detect the discrepancy between the model and the data (as long as the discrepancy is large enough, and enough signal can be gathered from the data). Generally if the discrepancy is small, more data are needed to detect it.\n",
    "\n",
    "This is the end of the tutorial for basic usage. Please feel free to open an issue on Github or contact us if you have questions or comments."
   ]
  },
  {
   "cell_type": "markdown",
   "metadata": {},
   "source": [
    "-----------------"
   ]
  },
  {
   "cell_type": "markdown",
   "metadata": {},
   "source": [
    "The following code is doing a sanity check to make sure that $\\nabla_y \\log p(y|x)$ computed from both `p` and `p1` match."
   ]
  },
  {
   "cell_type": "code",
   "execution_count": 16,
   "metadata": {},
   "outputs": [
    {
     "data": {
      "text/plain": [
       "tensor([[-2.2382],\n",
       "        [-1.8113],\n",
       "        [ 0.0059],\n",
       "        [ 0.5779],\n",
       "        [-1.6479]], grad_fn=<DivBackward0>)"
      ]
     },
     "execution_count": 16,
     "metadata": {},
     "output_type": "execute_result"
    }
   ],
   "source": [
    "X0 = X[:5, :]\n",
    "Y0 = Y[:5, :]\n",
    "p1.grad_log(X0, Y0)"
   ]
  },
  {
   "cell_type": "code",
   "execution_count": 17,
   "metadata": {},
   "outputs": [
    {
     "data": {
      "text/plain": [
       "tensor([[-2.2382],\n",
       "        [-1.8113],\n",
       "        [ 0.0059],\n",
       "        [ 0.5779],\n",
       "        [-1.6479]])"
      ]
     },
     "execution_count": 17,
     "metadata": {},
     "output_type": "execute_result"
    }
   ],
   "source": [
    "p.grad_log(X0, Y0.detach())"
   ]
  },
  {
   "cell_type": "code",
   "execution_count": null,
   "metadata": {},
   "outputs": [],
   "source": []
  },
  {
   "cell_type": "code",
   "execution_count": null,
   "metadata": {},
   "outputs": [],
   "source": []
  },
  {
   "cell_type": "code",
   "execution_count": null,
   "metadata": {},
   "outputs": [],
   "source": []
  },
  {
   "cell_type": "code",
   "execution_count": null,
   "metadata": {},
   "outputs": [],
   "source": []
  },
  {
   "cell_type": "code",
   "execution_count": null,
   "metadata": {},
   "outputs": [],
   "source": []
  }
 ],
 "metadata": {
  "kernelspec": {
   "display_name": "Python 3",
   "language": "python",
   "name": "python3"
  },
  "language_info": {
   "codemirror_mode": {
    "name": "ipython",
    "version": 3
   },
   "file_extension": ".py",
   "mimetype": "text/x-python",
   "name": "python",
   "nbconvert_exporter": "python",
   "pygments_lexer": "ipython3",
   "version": "3.7.7"
  }
 },
 "nbformat": 4,
 "nbformat_minor": 4
}
