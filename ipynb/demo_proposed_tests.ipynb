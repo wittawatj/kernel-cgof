{
 "cells": [
  {
   "cell_type": "markdown",
   "metadata": {},
   "source": [
    "A notebook to demonstrate `cgoftest.KSSDTest`"
   ]
  },
  {
   "cell_type": "code",
   "execution_count": null,
   "metadata": {},
   "outputs": [],
   "source": [
    "%load_ext autoreload\n",
    "%autoreload 2\n",
    "%matplotlib inline\n",
    "#%config InlineBackend.figure_format = 'svg'\n",
    "#%config InlineBackend.figure_format = 'pdf'\n",
    "\n"
   ]
  },
  {
   "cell_type": "code",
   "execution_count": null,
   "metadata": {},
   "outputs": [],
   "source": [
    "import torch\n",
    "import torch.distributions as dists\n",
    "\n",
    "import kcgof\n",
    "import kcgof.log as klog\n",
    "import kcgof.util as util\n",
    "import kcgof.cdensity as cden\n",
    "import kcgof.cdata as cdat\n",
    "import kcgof.cgoftest as cgof\n",
    "import kcgof.kernel as ker\n",
    "import kcgof.plot as plot"
   ]
  },
  {
   "cell_type": "code",
   "execution_count": null,
   "metadata": {},
   "outputs": [],
   "source": [
    "import matplotlib\n",
    "import matplotlib.pyplot as plt\n",
    "\n",
    "# font options\n",
    "font = {\n",
    "    #'family' : 'normal',\n",
    "    #'weight' : 'bold',\n",
    "    'size'   : 20\n",
    "}\n",
    "\n",
    "plt.rc('font', **font)\n",
    "plt.rc('lines', linewidth=2)\n",
    "matplotlib.rcParams['pdf.fonttype'] = 42\n",
    "matplotlib.rcParams['ps.fonttype'] = 42"
   ]
  },
  {
   "cell_type": "markdown",
   "metadata": {},
   "source": [
    "## Ordinary least squares with Gaussian noise"
   ]
  },
  {
   "cell_type": "markdown",
   "metadata": {},
   "source": [
    "$$p(y|x) = \\mathcal{N}(slope*x+c, variance)$$"
   ]
  },
  {
   "cell_type": "markdown",
   "metadata": {},
   "source": [
    "### KSSD Test"
   ]
  },
  {
   "cell_type": "code",
   "execution_count": null,
   "metadata": {},
   "outputs": [],
   "source": [
    "dx = 1\n",
    "\n",
    "slope = torch.tensor([1.0])\n",
    "noise_variance = 1.2\n",
    "c = 1.0\n",
    "\n",
    "# set up the conditional probability model\n",
    "p = cden.CDGaussianOLS(slope, c=c, variance=noise_variance)"
   ]
  },
  {
   "cell_type": "code",
   "execution_count": null,
   "metadata": {},
   "outputs": [],
   "source": [
    "# generate some toy data \n",
    "# CondSource\n",
    "# If the following parameters are the same as above, then H0 is true.\n",
    "# Can perturb these to have an H1 case.\n",
    "cs = cdat.CSGaussianOLS(slope*1.5, c=c, variance=noise_variance)\n",
    "\n",
    "# sample Y conditioned on X\n",
    "n = 300 # sample size\n",
    "px = dists.Normal(0, 1) \n",
    "X = px.sample((n, dx))\n",
    "Y = cs(X, seed=24)"
   ]
  },
  {
   "cell_type": "markdown",
   "metadata": {},
   "source": [
    "Plot the data and the model"
   ]
  },
  {
   "cell_type": "code",
   "execution_count": null,
   "metadata": {
    "scrolled": false
   },
   "outputs": [],
   "source": [
    "ep = 0.7\n",
    "domX = torch.linspace(torch.min(X)-ep, torch.max(X)+ep, 200)\n",
    "domY = torch.linspace(torch.min(Y).item()-ep, torch.max(Y).item()+ep, 200)\n",
    "\n",
    "plt.figure(figsize=(10, 8))\n",
    "plot.plot_2d_cond_model(\n",
    "    p, \n",
    "    lambda X: torch.exp(px.log_prob(X)), \n",
    "    X, Y, domX=domX, domY=domY, \n",
    "    cmap='pink_r', levels=50)\n",
    "# plt.xlabel('$x$')\n",
    "# plot.plot_2d_cond_data(X, Y)"
   ]
  },
  {
   "cell_type": "code",
   "execution_count": null,
   "metadata": {},
   "outputs": [],
   "source": [
    "# kernels\n",
    "# k = kernel on X\n",
    "# l = kernel on Y\n",
    "k = ker.PTKGauss(sigma2=1.0)\n",
    "l = ker.PTKGauss(sigma2=2.0)"
   ]
  },
  {
   "cell_type": "code",
   "execution_count": null,
   "metadata": {},
   "outputs": [],
   "source": [
    "# Construct a KSSD test object\n",
    "kssdtest = cgof.KSSDTest(p, k, l, alpha=0.05, n_bootstrap=400, seed=9)"
   ]
  },
  {
   "cell_type": "code",
   "execution_count": null,
   "metadata": {
    "scrolled": true
   },
   "outputs": [],
   "source": [
    "result = kssdtest.perform_test(X, Y, return_simulated_stats=True)\n",
    "result"
   ]
  },
  {
   "cell_type": "code",
   "execution_count": null,
   "metadata": {
    "scrolled": false
   },
   "outputs": [],
   "source": [
    "test_stat = result['test_stat']\n",
    "plt.figure(figsize=(10, 6))\n",
    "plt.hist(result['sim_stats'], density=True, label='Bootstrapped');\n",
    "# plt.stem([test_stat, test_stat], [0, 0.002], 'r', label='Observed', use_line_collection=True)\n",
    "plt.xlabel('KSSD statistic')\n",
    "plt.legend()\n",
    "\n",
    "print('H0 rejected?: {}'.format(result['h0_rejected']))\n",
    "print('Observed stat: {:.3f}'.format(result['test_stat']))"
   ]
  },
  {
   "cell_type": "markdown",
   "metadata": {},
   "source": [
    "### FSCD Test\n",
    "\n",
    "The Finite Set Conditional Discrepancy (FSCD) test"
   ]
  },
  {
   "cell_type": "code",
   "execution_count": null,
   "metadata": {},
   "outputs": [],
   "source": [
    "# J x dx torch tensor specifying J test locations\n",
    "V = torch.tensor([[1.0]])\n",
    "fscdtest = cgof.FSCDTest(p, k, l, V, alpha=0.05, n_bootstrap=400, seed=10)"
   ]
  },
  {
   "cell_type": "code",
   "execution_count": null,
   "metadata": {},
   "outputs": [],
   "source": [
    "fscd_result = fscdtest.perform_test(X, Y, return_simulated_stats=True)"
   ]
  },
  {
   "cell_type": "code",
   "execution_count": null,
   "metadata": {},
   "outputs": [],
   "source": [
    "test_stat = fscd_result['test_stat']\n",
    "plt.figure(figsize=(10, 6))\n",
    "plt.hist(fscd_result['sim_stats'], density=True, label='Bootstrapped');\n",
    "# plt.stem([test_stat, test_stat], [0, 0.002], 'r', label='Observed', use_line_collection=True)\n",
    "plt.xlabel('FSCD statistic')\n",
    "plt.legend()\n",
    "\n",
    "print('H0 rejected?: {}'.format(fscd_result['h0_rejected']))\n",
    "print('Observed stat: {:.3f}'.format(fscd_result['test_stat']))"
   ]
  },
  {
   "cell_type": "code",
   "execution_count": null,
   "metadata": {},
   "outputs": [],
   "source": []
  },
  {
   "cell_type": "code",
   "execution_count": null,
   "metadata": {},
   "outputs": [],
   "source": []
  },
  {
   "cell_type": "code",
   "execution_count": null,
   "metadata": {},
   "outputs": [],
   "source": []
  },
  {
   "cell_type": "code",
   "execution_count": null,
   "metadata": {},
   "outputs": [],
   "source": []
  },
  {
   "cell_type": "code",
   "execution_count": null,
   "metadata": {},
   "outputs": [],
   "source": []
  },
  {
   "cell_type": "code",
   "execution_count": null,
   "metadata": {},
   "outputs": [],
   "source": []
  },
  {
   "cell_type": "code",
   "execution_count": null,
   "metadata": {},
   "outputs": [],
   "source": []
  },
  {
   "cell_type": "code",
   "execution_count": null,
   "metadata": {},
   "outputs": [],
   "source": []
  }
 ],
 "metadata": {
  "kernelspec": {
   "display_name": "Python 3",
   "language": "python",
   "name": "python3"
  },
  "language_info": {
   "codemirror_mode": {
    "name": "ipython",
    "version": 3
   },
   "file_extension": ".py",
   "mimetype": "text/x-python",
   "name": "python",
   "nbconvert_exporter": "python",
   "pygments_lexer": "ipython3",
   "version": "3.8.1"
  }
 },
 "nbformat": 4,
 "nbformat_minor": 4
}
