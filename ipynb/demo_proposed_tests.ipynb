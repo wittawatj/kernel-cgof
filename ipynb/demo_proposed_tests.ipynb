{
 "cells": [
  {
   "cell_type": "markdown",
   "metadata": {},
   "source": [
    " A notebook to demonstrate `cgoftest.KSSDTest`"
   ]
  },
  {
   "cell_type": "code",
   "execution_count": null,
   "metadata": {},
   "outputs": [],
   "source": [
    "%load_ext autoreload\n",
    "%autoreload 2\n",
    "%matplotlib inline\n",
    "#%config InlineBackend.figure_format = 'svg'\n",
    "#%config InlineBackend.figure_format = 'pdf'\n",
    "\n"
   ]
  },
  {
   "cell_type": "code",
   "execution_count": null,
   "metadata": {},
   "outputs": [],
   "source": [
    "import numpy as np\n",
    "import torch\n",
    "import torch.distributions as dists\n",
    "\n",
    "import kcgof\n",
    "import kcgof.log as klog\n",
    "import kcgof.util as util\n",
    "import kcgof.cdensity as cden\n",
    "import kcgof.cdata as cdat\n",
    "import kcgof.cgoftest as cgof\n",
    "import kcgof.kernel as ker\n",
    "import kcgof.plot as plot"
   ]
  },
  {
   "cell_type": "code",
   "execution_count": null,
   "metadata": {},
   "outputs": [],
   "source": [
    "import matplotlib\n",
    "import matplotlib.pyplot as plt\n",
    "\n",
    "# font options\n",
    "font = {\n",
    "    #'family' : 'normal',\n",
    "    #'weight' : 'bold',\n",
    "    'size'   : 20\n",
    "}\n",
    "\n",
    "plt.rc('font', **font)\n",
    "plt.rc('lines', linewidth=2)\n",
    "matplotlib.rcParams['pdf.fonttype'] = 42\n",
    "matplotlib.rcParams['ps.fonttype'] = 42"
   ]
  },
  {
   "cell_type": "markdown",
   "metadata": {},
   "source": [
    "## Ordinary least squares with Gaussian noise"
   ]
  },
  {
   "cell_type": "markdown",
   "metadata": {},
   "source": [
    "$$p(y|x) = \\mathcal{N}(slope*x+c, variance)$$"
   ]
  },
  {
   "cell_type": "markdown",
   "metadata": {},
   "source": [
    "### KSSD Test"
   ]
  },
  {
   "cell_type": "code",
   "execution_count": null,
   "metadata": {},
   "outputs": [],
   "source": [
    "dx = 1\n",
    "\n",
    "slope = torch.tensor([0.5])\n",
    "noise_variance = 1.0\n",
    "c = 1.0\n",
    "\n",
    "# set up the conditional probability model\n",
    "p = cden.CDGaussianOLS(slope, c=c, variance=noise_variance)"
   ]
  },
  {
   "cell_type": "code",
   "execution_count": null,
   "metadata": {},
   "outputs": [],
   "source": [
    "# generate some toy data \n",
    "# CondSource\n",
    "# If the following parameters are the same as above, then H0 is true.\n",
    "# Can perturb these to have an H1 case.\n",
    "cs = cdat.CSGaussianOLS(slope+0.5, c=c+0.5, variance=noise_variance)\n",
    "# cs = cdat.CSGaussianOLS(slope, c=c+0.8, variance=noise_variance)\n",
    "\n",
    "# sample Y conditioned on X\n",
    "n = 400 # sample size\n",
    "with util.TorchSeedContext(seed=17):\n",
    "    px = dists.Normal(0, 1) \n",
    "    X = px.sample((n, dx))\n",
    "Y = cs(X, seed=28)"
   ]
  },
  {
   "cell_type": "markdown",
   "metadata": {},
   "source": [
    "Plot the data and the model"
   ]
  },
  {
   "cell_type": "code",
   "execution_count": null,
   "metadata": {},
   "outputs": [],
   "source": [
    "# kernels\n",
    "# k = kernel on X\n",
    "# l = kernel on Y\n",
    "k = ker.PTKGauss(sigma2=1)\n",
    "l = ker.PTKGauss(sigma2=1.0)"
   ]
  },
  {
   "cell_type": "code",
   "execution_count": null,
   "metadata": {},
   "outputs": [],
   "source": [
    "ep = 0.7\n",
    "# make a grid that covers X\n",
    "\n",
    "domX = torch.linspace(torch.min(X)-ep, torch.max(X)+ep, 100)\n",
    "domY = torch.linspace(torch.min(Y).item()-ep, torch.max(Y).item()+ep, 200)\n",
    "\n",
    "fscd_pc = cgof.FSCDPowerCriterion(p, k, l, X, Y)\n",
    "\n",
    "\n",
    "# evaluate the power criterion function\n",
    "wit_values = fscd_pc.eval_witness(at=domX.unsqueeze(1))\n",
    "pow_cri_values = fscd_pc.eval_power_criterion(at=domX.unsqueeze(1).unsqueeze(1))"
   ]
  },
  {
   "cell_type": "code",
   "execution_count": null,
   "metadata": {
    "scrolled": false
   },
   "outputs": [],
   "source": [
    "fig, axes = plot.plot_2d_cond_model(\n",
    "    p, \n",
    "    lambda X: torch.exp(px.log_prob(X)), \n",
    "    X, Y, domX=domX, domY=domY, \n",
    "    height_ratios=[2,1],\n",
    "    cmap='pink_r', levels=50)\n",
    "# plt.xlabel('$x$')\n",
    "# plot.plot_2d_cond_data(X, Y)"
   ]
  },
  {
   "cell_type": "markdown",
   "metadata": {},
   "source": [
    "Add power criterion as a subplot"
   ]
  },
  {
   "cell_type": "code",
   "execution_count": null,
   "metadata": {
    "scrolled": false
   },
   "outputs": [],
   "source": [
    "npdomX = domX.detach().numpy()\n",
    "\n",
    "# plt.figure(figsize=(8, 5))\n",
    "# plt.plot(npX, wit_values.detach().numpy(), 'bo', label='witness')\n",
    "ax_pow = axes[1]\n",
    "# ax3.plot(npdomX, wit_values.detach().numpy(), 'b-', label='Witness')\n",
    "ax_pow.plot(npdomX, pow_cri_values.detach().numpy(), 'g-', label='Power Cri.')\n",
    "\n",
    "# ax3.legend()\n",
    "ax_pow.legend(\n",
    "#     bbox_to_anchor=(0.1, 1), \n",
    "           loc='lower left', ncol=1)\n",
    "\n",
    "# mark the highest point\n",
    "imax = torch.argmax(pow_cri_values)\n",
    "ax_pow.vlines(x=npdomX[imax], ymin=0, ymax=pow_cri_values[imax], \n",
    "              linestyles='dashed', color='g')\n",
    "ax_pow.annotate('$v$', (npdomX[imax], -0.02), xytext=(npdomX[imax]-0.1, -0.13))\n",
    "# ax.annotate('local max', xy=(2, 1), xytext=(3, 1.5),\n",
    "#             arrowprops=dict(facecolor='black', shrink=0.05),\n",
    "#             )\n"
   ]
  },
  {
   "cell_type": "code",
   "execution_count": null,
   "metadata": {
    "scrolled": false
   },
   "outputs": [],
   "source": [
    "fig.set_figheight(5)\n",
    "fig.set_figwidth(7)\n",
    "fig.tight_layout()\n",
    "fig.savefig('lin_gauss_ls_powcri.pdf', bbox_inches='tight')\n",
    "fig"
   ]
  },
  {
   "cell_type": "markdown",
   "metadata": {},
   "source": [
    "Testing with KSSD"
   ]
  },
  {
   "cell_type": "code",
   "execution_count": null,
   "metadata": {},
   "outputs": [],
   "source": [
    "# Construct a KSSD test object\n",
    "kssdtest = cgof.KSSDTest(p, k, l, alpha=0.05, n_bootstrap=400, seed=9)"
   ]
  },
  {
   "cell_type": "code",
   "execution_count": null,
   "metadata": {
    "scrolled": true
   },
   "outputs": [],
   "source": [
    "result = kssdtest.perform_test(X, Y, return_simulated_stats=True)\n",
    "result"
   ]
  },
  {
   "cell_type": "code",
   "execution_count": null,
   "metadata": {
    "scrolled": true
   },
   "outputs": [],
   "source": [
    "test_stat = result['test_stat']\n",
    "plt.figure(figsize=(10, 6))\n",
    "plt.hist(result['sim_stats'], density=True, label='Bootstrapped');\n",
    "# plt.stem([test_stat, test_stat], [0, 0.002], 'r', label='Observed', use_line_collection=True)\n",
    "plt.xlabel('KSSD statistic')\n",
    "plt.legend()\n",
    "\n",
    "print('H0 rejected?: {}'.format(result['h0_rejected']))\n",
    "print('Observed stat: {:.3f}'.format(result['test_stat']))"
   ]
  },
  {
   "cell_type": "markdown",
   "metadata": {},
   "source": [
    "### FSCD Test\n",
    "\n",
    "The Finite Set Conditional Discrepancy (FSCD) test"
   ]
  },
  {
   "cell_type": "code",
   "execution_count": null,
   "metadata": {},
   "outputs": [],
   "source": [
    "# J x dx torch tensor specifying J test locations\n",
    "V = torch.tensor([[1.0]])\n",
    "fscdtest = cgof.FSCDTest(p, k, l, V, alpha=0.05, n_bootstrap=400, seed=10)"
   ]
  },
  {
   "cell_type": "code",
   "execution_count": null,
   "metadata": {},
   "outputs": [],
   "source": [
    "fscd_result = fscdtest.perform_test(X, Y, return_simulated_stats=True)"
   ]
  },
  {
   "cell_type": "code",
   "execution_count": null,
   "metadata": {
    "scrolled": false
   },
   "outputs": [],
   "source": [
    "test_stat = fscd_result['test_stat']\n",
    "plt.figure(figsize=(10, 6))\n",
    "plt.hist(fscd_result['sim_stats'], density=True, label='Bootstrapped');\n",
    "# plt.stem([test_stat, test_stat], [0, 0.002], 'r', label='Observed', use_line_collection=True)\n",
    "plt.xlabel('FSCD statistic')\n",
    "plt.legend()\n",
    "\n",
    "print('H0 rejected?: {}'.format(fscd_result['h0_rejected']))\n",
    "print('Observed stat: {:.3f}'.format(fscd_result['test_stat']))"
   ]
  },
  {
   "cell_type": "markdown",
   "metadata": {},
   "source": [
    "## Optimized KSSD test\n",
    "\n",
    "Tune the kernels $k$ and $l$ by maximizing the test power of the KSSD test."
   ]
  },
  {
   "cell_type": "code",
   "execution_count": null,
   "metadata": {},
   "outputs": [],
   "source": [
    "# split the data into trainin and test sets\n",
    "tr, te = cdat.CondData(X, Y).split_tr_te(tr_proportion=0.5)\n",
    "Xtr, Ytr = tr.xy()"
   ]
  },
  {
   "cell_type": "code",
   "execution_count": null,
   "metadata": {},
   "outputs": [],
   "source": [
    "Ytr.requires_grad = False\n",
    "kssd_pc = cgof.KSSDPowerCriterion(p, k, l, Xtr, Ytr)\n",
    "\n",
    "max_iter = 200\n",
    "# learning rate \n",
    "lr = 1e-3\n",
    "# regularization\n",
    "reg = 1e-3\n",
    "\n",
    "# constraint satisfaction function\n",
    "def con_f(params):\n",
    "    ksigma2 = params[0]\n",
    "    lsigma2 = params[1]\n",
    "    ksigma2.data.clamp_(min=1e-2, max=10)\n",
    "    lsigma2.data.clamp_(min=1e-2, max=10)\n",
    "    \n",
    "objs = kssd_pc.optimize_params(\n",
    "    [k.sigma2, l.sigma2], constraint_f=con_f,\n",
    "    lr=lr, reg=reg, max_iter=max_iter)"
   ]
  },
  {
   "cell_type": "code",
   "execution_count": null,
   "metadata": {},
   "outputs": [],
   "source": [
    "np_objs = objs.detach().numpy()\n",
    "\n",
    "plt.figure(figsize=(8,5))\n",
    "plt.plot(np.arange(max_iter), np_objs, 'b-')\n",
    "plt.xlabel('iteration')\n",
    "plt.ylabel('Power criterion')"
   ]
  },
  {
   "cell_type": "code",
   "execution_count": null,
   "metadata": {},
   "outputs": [],
   "source": [
    "k.sigma2"
   ]
  },
  {
   "cell_type": "code",
   "execution_count": null,
   "metadata": {},
   "outputs": [],
   "source": [
    "l.sigma2"
   ]
  },
  {
   "cell_type": "markdown",
   "metadata": {},
   "source": [
    "Test on the test set"
   ]
  },
  {
   "cell_type": "code",
   "execution_count": null,
   "metadata": {},
   "outputs": [],
   "source": [
    "# Construct a KSSD test object\n",
    "kssdtest = cgof.KSSDTest(p, k, l, alpha=0.05, n_bootstrap=400, seed=9)\n",
    "Xte, Yte = te.xy()\n",
    "kssdtest.perform_test(Xte, Yte)"
   ]
  },
  {
   "cell_type": "markdown",
   "metadata": {},
   "source": [
    "## Optimized FSCD test\n",
    "\n",
    "\n",
    "The FSCD test requires two kernels $k$ and $l$, and a set $V$ of test locations as input. We can tune these parameters by optimizing the test power."
   ]
  },
  {
   "cell_type": "code",
   "execution_count": null,
   "metadata": {},
   "outputs": [],
   "source": [
    "Ytr.requires_grad = False\n",
    "fscd_pc = cgof.FSCDPowerCriterion(p, k, l, Xtr, Ytr)\n",
    "\n",
    "max_iter = 200\n",
    "# learning rate \n",
    "lr = 1e-2\n",
    "# regularization\n",
    "reg = 1e-3\n",
    "\n",
    "# constraint satisfaction function\n",
    "def con_f(params, V):\n",
    "    ksigma2 = params[0]\n",
    "    lsigma2 = params[1]\n",
    "    ksigma2.data.clamp_(min=1e-2, max=10)\n",
    "    lsigma2.data.clamp_(min=1e-2, max=10)\n",
    "    V.data.clamp_(min=-5, max=5)\n",
    "    \n",
    "objs = fscd_pc.optimize_params(\n",
    "    [k.sigma2, l.sigma2], V, \n",
    "    constraint_f=con_f,\n",
    "    lr=lr, reg=reg, max_iter=max_iter)"
   ]
  },
  {
   "cell_type": "code",
   "execution_count": null,
   "metadata": {},
   "outputs": [],
   "source": [
    "np_objs = objs.detach().numpy()\n",
    "\n",
    "plt.figure(figsize=(8,5))\n",
    "plt.plot(np.arange(max_iter), np_objs, 'b-')\n",
    "plt.xlabel('iteration')\n",
    "plt.ylabel('Power criterion')"
   ]
  },
  {
   "cell_type": "code",
   "execution_count": null,
   "metadata": {},
   "outputs": [],
   "source": [
    "# Check optimized V\n",
    "V"
   ]
  },
  {
   "cell_type": "code",
   "execution_count": null,
   "metadata": {},
   "outputs": [],
   "source": [
    "k.sigma2"
   ]
  },
  {
   "cell_type": "code",
   "execution_count": null,
   "metadata": {},
   "outputs": [],
   "source": [
    "l.sigma2"
   ]
  },
  {
   "cell_type": "code",
   "execution_count": null,
   "metadata": {},
   "outputs": [],
   "source": []
  },
  {
   "cell_type": "code",
   "execution_count": null,
   "metadata": {},
   "outputs": [],
   "source": []
  },
  {
   "cell_type": "code",
   "execution_count": null,
   "metadata": {},
   "outputs": [],
   "source": []
  },
  {
   "cell_type": "code",
   "execution_count": null,
   "metadata": {},
   "outputs": [],
   "source": []
  },
  {
   "cell_type": "code",
   "execution_count": null,
   "metadata": {},
   "outputs": [],
   "source": []
  }
 ],
 "metadata": {
  "kernelspec": {
   "display_name": "Python 3",
   "language": "python",
   "name": "python3"
  },
  "language_info": {
   "codemirror_mode": {
    "name": "ipython",
    "version": 3
   },
   "file_extension": ".py",
   "mimetype": "text/x-python",
   "name": "python",
   "nbconvert_exporter": "python",
   "pygments_lexer": "ipython3",
   "version": "3.8.1"
  }
 },
 "nbformat": 4,
 "nbformat_minor": 4
}
