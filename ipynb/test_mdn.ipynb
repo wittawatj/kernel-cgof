{
 "cells": [
  {
   "cell_type": "markdown",
   "metadata": {},
   "source": [
    "Test an implementation of the mixture density network."
   ]
  },
  {
   "cell_type": "code",
   "execution_count": null,
   "metadata": {},
   "outputs": [],
   "source": [
    "%load_ext autoreload\n",
    "%autoreload 2\n",
    "%matplotlib inline\n",
    "#%config InlineBackend.figure_format = 'svg'\n",
    "#%config InlineBackend.figure_format = 'pdf'\n",
    "\n"
   ]
  },
  {
   "cell_type": "code",
   "execution_count": null,
   "metadata": {},
   "outputs": [],
   "source": [
    "import numpy as np\n",
    "import torch\n",
    "import torch.distributions as dists\n",
    "import torch.nn as nn\n",
    "\n",
    "import kcgof\n",
    "import kcgof.log as klog\n",
    "import kcgof.util as util\n",
    "import kcgof.cdensity as cden\n",
    "import kcgof.cdata as cdat\n",
    "import kcgof.cgoftest as cgof\n",
    "import kcgof.kernel as ker\n",
    "import kcgof.plot as plot"
   ]
  },
  {
   "cell_type": "code",
   "execution_count": null,
   "metadata": {},
   "outputs": [],
   "source": [
    "import matplotlib\n",
    "import matplotlib.pyplot as plt\n",
    "\n",
    "# font options\n",
    "font = {\n",
    "    #'family' : 'normal',\n",
    "    #'weight' : 'bold',\n",
    "    'size'   : 20\n",
    "}\n",
    "\n",
    "plt.rc('font', **font)\n",
    "plt.rc('lines', linewidth=2)\n",
    "matplotlib.rcParams['pdf.fonttype'] = 42\n",
    "matplotlib.rcParams['ps.fonttype'] = 42"
   ]
  },
  {
   "cell_type": "markdown",
   "metadata": {},
   "source": [
    "## Mixture Density Network"
   ]
  },
  {
   "cell_type": "code",
   "execution_count": null,
   "metadata": {},
   "outputs": [],
   "source": [
    "# https://discuss.pytorch.org/t/what-is-reshape-layer-in-pytorch/1110/4\n",
    "class Reshape(nn.Module):\n",
    "    def __init__(self, *shape):\n",
    "        super(Reshape, self).__init__()\n",
    "        self.shape = shape\n",
    "\n",
    "    def forward(self, x):\n",
    "        batch = x.shape[0]\n",
    "        return x.view(batch, *self.shape)\n",
    "    \n",
    "class MDNSigma2(nn.Module):\n",
    "    def __init__(self):\n",
    "        super(MDNSigma2, self).__init__()\n",
    "        self.net = nn.Sequential(\n",
    "            nn.Linear(dx, 16),\n",
    "        #             nn.BatchNorm1d(num_features=128),\n",
    "            nn.Tanh(),\n",
    "            nn.Linear(16, dy*n_comps),\n",
    "        #             nn.BatchNorm1d(num_features=64),\n",
    "            Reshape(n_comps, dy)\n",
    "        )\n",
    "    def forward(self, x):\n",
    "        return self.net(x)**2 + 0.1"
   ]
  },
  {
   "cell_type": "code",
   "execution_count": null,
   "metadata": {},
   "outputs": [],
   "source": [
    "# number of components\n",
    "n_comps = 12\n",
    "dx = 1\n",
    "dy = 1\n",
    "# mixing proportion function\n",
    "pi = nn.Sequential(\n",
    "    nn.Linear(dx, 32),\n",
    "#             nn.BatchNorm1d(num_features=128),\n",
    "    nn.Tanh(),\n",
    "    nn.Linear(32, 8),\n",
    "    nn.Tanh(),\n",
    "    nn.Linear(8, n_comps),\n",
    "#             nn.BatchNorm1d(num_features=64),\n",
    "    nn.Softmax(dim=1)\n",
    ")"
   ]
  },
  {
   "cell_type": "code",
   "execution_count": null,
   "metadata": {},
   "outputs": [],
   "source": [
    "mu = nn.Sequential(\n",
    "    nn.Linear(dx, 32),\n",
    "#     nn.BatchNorm1d(num_features=128),\n",
    "    nn.Tanh(),\n",
    "    nn.Linear(32, 16),\n",
    "    nn.Tanh(),\n",
    "    nn.Linear(16, 8),\n",
    "    nn.Tanh(),\n",
    "    nn.Linear(8, n_comps*dy),\n",
    "#     nn.BatchNorm1d(num_features=64),   \n",
    "    Reshape(n_comps, dy)\n",
    ")\n",
    "sigma2 = MDNSigma2()"
   ]
  },
  {
   "cell_type": "markdown",
   "metadata": {},
   "source": [
    "Test parameter functions"
   ]
  },
  {
   "cell_type": "code",
   "execution_count": null,
   "metadata": {
    "scrolled": true
   },
   "outputs": [],
   "source": [
    "T = torch.randn(200,1) +1\n",
    "T.requires_grad = False\n",
    "print(pi(T))"
   ]
  },
  {
   "cell_type": "code",
   "execution_count": null,
   "metadata": {},
   "outputs": [],
   "source": [
    "print(sigma2(T))"
   ]
  },
  {
   "cell_type": "code",
   "execution_count": null,
   "metadata": {},
   "outputs": [],
   "source": [
    "print(mu(T))"
   ]
  },
  {
   "cell_type": "code",
   "execution_count": null,
   "metadata": {},
   "outputs": [],
   "source": [
    "mdn_den = cden.CDMixtureDensityNetwork(n_comps=n_comps, pi=pi, mu=mu, variance=sigma2, dx=dx, dy=dy)\n",
    "p = mdn_den"
   ]
  },
  {
   "cell_type": "code",
   "execution_count": null,
   "metadata": {},
   "outputs": [],
   "source": [
    "# condsource for sampling from the model\n",
    "cs = cdat.CSMixtureDensityNetwork(n_comps=n_comps, pi=pi, mu=mu, variance=sigma2,\n",
    "                            dx=dx, dy=dy)"
   ]
  },
  {
   "cell_type": "code",
   "execution_count": null,
   "metadata": {
    "scrolled": true
   },
   "outputs": [],
   "source": [
    "n = 500\n",
    "rx = dists.Normal(0, 1**2)\n",
    "X = rx.sample((n, dx))\n",
    "Y = cs(X, seed=23, verbose=True)\n",
    "    "
   ]
  },
  {
   "cell_type": "code",
   "execution_count": null,
   "metadata": {},
   "outputs": [],
   "source": [
    "ep = 0.4\n",
    "# make a grid that covers X\n",
    "\n",
    "domX = torch.linspace(torch.min(X)-ep, torch.max(X)+ep, 100)\n",
    "domY = torch.linspace(torch.min(Y).item()-ep, torch.max(Y).item()+ep, 100)\n",
    "\n",
    "fig, axes = plot.plot_2d_cond_model(\n",
    "    p, \n",
    "    lambda X: torch.exp(rx.log_prob(X)), \n",
    "    X, Y, domX=domX, domY=domY, \n",
    "    height_ratios=[2,1],\n",
    "    cmap='pink_r', levels=30)\n",
    "# plt.xlabel('$x$')\n",
    "# plot.plot_2d_cond_data(X, Y)"
   ]
  },
  {
   "cell_type": "code",
   "execution_count": null,
   "metadata": {},
   "outputs": [],
   "source": []
  },
  {
   "cell_type": "code",
   "execution_count": null,
   "metadata": {},
   "outputs": [],
   "source": []
  },
  {
   "cell_type": "code",
   "execution_count": null,
   "metadata": {},
   "outputs": [],
   "source": []
  },
  {
   "cell_type": "code",
   "execution_count": null,
   "metadata": {},
   "outputs": [],
   "source": []
  },
  {
   "cell_type": "code",
   "execution_count": null,
   "metadata": {},
   "outputs": [],
   "source": []
  },
  {
   "cell_type": "code",
   "execution_count": null,
   "metadata": {},
   "outputs": [],
   "source": []
  },
  {
   "cell_type": "code",
   "execution_count": null,
   "metadata": {},
   "outputs": [],
   "source": []
  },
  {
   "cell_type": "code",
   "execution_count": null,
   "metadata": {},
   "outputs": [],
   "source": []
  },
  {
   "cell_type": "code",
   "execution_count": null,
   "metadata": {},
   "outputs": [],
   "source": []
  },
  {
   "cell_type": "code",
   "execution_count": null,
   "metadata": {},
   "outputs": [],
   "source": []
  },
  {
   "cell_type": "code",
   "execution_count": null,
   "metadata": {},
   "outputs": [],
   "source": []
  }
 ],
 "metadata": {
  "kernelspec": {
   "display_name": "Python 3",
   "language": "python",
   "name": "python3"
  },
  "language_info": {
   "codemirror_mode": {
    "name": "ipython",
    "version": 3
   },
   "file_extension": ".py",
   "mimetype": "text/x-python",
   "name": "python",
   "nbconvert_exporter": "python",
   "pygments_lexer": "ipython3",
   "version": "3.8.1"
  }
 },
 "nbformat": 4,
 "nbformat_minor": 4
}
