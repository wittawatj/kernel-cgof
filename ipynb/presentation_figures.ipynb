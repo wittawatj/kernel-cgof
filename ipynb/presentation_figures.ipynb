{
 "cells": [
  {
   "cell_type": "markdown",
   "metadata": {},
   "source": [
    "Notebook for generating figures for presentation slides."
   ]
  },
  {
   "cell_type": "code",
   "execution_count": null,
   "metadata": {},
   "outputs": [],
   "source": [
    "%load_ext autoreload\n",
    "%autoreload 2\n",
    "%matplotlib inline\n",
    "# %config InlineBackend.figure_format = 'svg'\n",
    "#%config InlineBackend.figure_format = 'pdf'"
   ]
  },
  {
   "cell_type": "code",
   "execution_count": null,
   "metadata": {},
   "outputs": [],
   "source": [
    "import numpy as np\n",
    "import torch\n",
    "import torch.distributions as dists\n",
    "\n",
    "import kcgof\n",
    "import kcgof.log as klog\n",
    "import kcgof.util as util\n",
    "import kcgof.cdensity as cden\n",
    "import kcgof.cdata as cdat\n",
    "import kcgof.cgoftest as cgof\n",
    "import kcgof.kernel as ker\n",
    "import kcgof.plot as plot\n",
    "\n",
    "import scipy.stats as stats"
   ]
  },
  {
   "cell_type": "code",
   "execution_count": null,
   "metadata": {},
   "outputs": [],
   "source": [
    "import matplotlib\n",
    "import matplotlib.pyplot as plt\n",
    "\n",
    "# font options\n",
    "font = {\n",
    "    #'family' : 'normal',\n",
    "    #'weight' : 'bold',\n",
    "    'size'   : 20\n",
    "}\n",
    "\n",
    "plt.rc('font', **font)\n",
    "plt.rc('lines', linewidth=2)\n",
    "matplotlib.rcParams['pdf.fonttype'] = 42\n",
    "matplotlib.rcParams['ps.fonttype'] = 42"
   ]
  },
  {
   "cell_type": "markdown",
   "metadata": {},
   "source": [
    "## Plot the conditional Stein witness function\n",
    "\n",
    "$$ g(w|x)$$"
   ]
  },
  {
   "cell_type": "code",
   "execution_count": null,
   "metadata": {},
   "outputs": [],
   "source": [
    "def get_rhet_plin_problem(n=400, seed=20):\n",
    "    \"\"\"\n",
    "    r (true distribution) is heteroscedastic. p (model) is linear.\n",
    "    \"\"\"\n",
    "    g_het_center = torch.tensor([2.0])\n",
    "    g_het_spike_var = 16\n",
    "    dx = 1\n",
    "    \n",
    "    # p(y|x)\n",
    "    pslope = torch.tensor([1.0])\n",
    "    f_quad = lambda X: (X**2).sum(dim=1)\n",
    "#     p = cden.CDGaussianOLS(slope=pslope, c=0.0, variance=1.0)\n",
    "    p = cden.CDAdditiveNoiseRegression(\n",
    "        f = f_quad,\n",
    "        noise=dists.Normal(0, 1), dx=1,\n",
    "    )\n",
    "    \n",
    "    # rx\n",
    "    rx = dists.Normal(1, 1.0)    \n",
    "#     rx = dists.Uniform(-1, 1)\n",
    "    # r(y|x)\n",
    "    cs = cdat.CSGaussianHetero(\n",
    "#         f=lambda X: X.sum(dim=1),\n",
    "        f=f_quad,\n",
    "        f_variance= lambda X: 1.0 \n",
    "            + g_het_spike_var*torch.exp( -0.5*torch.sum( (X -\n",
    "            g_het_center)**2, dim=1 )/0.05**2 ),\n",
    "#         f_variance=lambda X: torch.ones(X.shape[0]),\n",
    "        dx=dx)\n",
    "#     cs = cdat.CSGaussianOLS(slope=pslope, c=0.0, variance=1.0)\n",
    "    \n",
    "    # sample Y conditioned on X\n",
    "    with util.TorchSeedContext(seed=seed):\n",
    "        X = rx.sample((n, dx))\n",
    "    Y = cs(X, seed=seed+77)\n",
    "    return p, cs, rx, X, Y\n",
    "    "
   ]
  },
  {
   "cell_type": "code",
   "execution_count": null,
   "metadata": {
    "scrolled": false
   },
   "outputs": [],
   "source": [
    "p, cs, rx, X, Y = get_rhet_plin_problem(n=400, seed=9)"
   ]
  },
  {
   "cell_type": "code",
   "execution_count": null,
   "metadata": {},
   "outputs": [],
   "source": [
    "# k = kernel on X\n",
    "k = ker.PTKGauss(sigma2=0.1)\n",
    "\n",
    "# l = kernel on Y\n",
    "l = ker.PTKGauss(sigma2=1.0)"
   ]
  },
  {
   "cell_type": "code",
   "execution_count": null,
   "metadata": {},
   "outputs": [],
   "source": [
    "ep = 1.0\n",
    "n_grid_points = 100\n",
    "# make a grid that covers X\n",
    "\n",
    "domX = torch.linspace(torch.min(X)-ep, torch.max(X)+ep, n_grid_points)\n",
    "domY = torch.linspace(torch.min(Y).item()-ep, torch.max(Y).item()+ep, n_grid_points)\n",
    "\n",
    "fscd_pc = cgof.FSCDPowerCriterion(p, k, l, X, Y)\n",
    "\n",
    "# evaluate the power criterion function\n",
    "wit_values = fscd_pc.eval_witness(at=domX.unsqueeze(1))\n",
    "pow_cri_values = fscd_pc.eval_power_criterion(at=domX.unsqueeze(1).unsqueeze(1))"
   ]
  },
  {
   "cell_type": "code",
   "execution_count": null,
   "metadata": {},
   "outputs": [],
   "source": [
    "g_het_center = torch.tensor([2.0])\n",
    "g_het_spike_var = 9\n",
    "    \n",
    "f_variance= lambda X: 1.0  + g_het_spike_var*torch.exp( -0.5*torch.sum( (X -\n",
    "            g_het_center)**2, dim=1 )/0.1**2 )\n",
    "variances = f_variance(domX.reshape(-1, 1))\n",
    "plt.plot(domX.detach().numpy(), variances.detach().numpy(), 'y')\n",
    "plt.xticks([0, 2])\n",
    "plt.yticks([0, 1, 10])\n",
    "plt.xlabel('$x$')\n",
    "plt.ylabel('$\\sigma^2(x)$')\n",
    "plt.savefig('present/variance_func.pdf', bbox_inches='tight')"
   ]
  },
  {
   "cell_type": "code",
   "execution_count": null,
   "metadata": {},
   "outputs": [],
   "source": [
    "fig, axes = plot.plot_2d_cond_model(\n",
    "    p, \n",
    "    lambda X: torch.exp(rx.log_prob(X)), \n",
    "    X, Y, domX=domX, domY=domY, \n",
    "    height_ratios=[2,1],\n",
    "    cmap='pink_r', levels=50)\n",
    "\n",
    "fig.set_figheight(5)\n",
    "fig.set_figwidth(8)\n",
    "fig.tight_layout()\n",
    "xticks_range = np.arange(-2, 3+1)\n",
    "axes[0].set_xticks(xticks_range);\n",
    "plt.legend()\n",
    "plt.savefig('present/quad_toy.pdf', bbox_inches='tight')\n",
    "# plt.xlabel('$x$')\n",
    "# plot.plot_2d_cond_data(X, Y)"
   ]
  },
  {
   "cell_type": "markdown",
   "metadata": {},
   "source": [
    "Plot the conditional Stein witness $g_{p,r}(w|x)$ function. Not smoothed with `K` yet. \n",
    "Plotting this function requires `cheating` i.e., for each x, we need to sample $y | x \\sim r(y|x)$."
   ]
  },
  {
   "cell_type": "code",
   "execution_count": null,
   "metadata": {},
   "outputs": [],
   "source": [
    "def cond_stein_wit(X, Y, p, cs, l, n_sample, seed=28):\n",
    "    \"\"\"\n",
    "    Evaluate the Stein witness at (Y, X). This requires sampling from the \n",
    "    true distribution r(y|x) through `cs`. Sample `n_sample` times, for each x.\n",
    "    \n",
    "    ** Assume that dy=1.\n",
    "    \n",
    "    Return a Torch tensor of length n, where n = X.shape[0] = Y.shape[0]\n",
    "    \"\"\"\n",
    "    if Y.shape[1] != 1:\n",
    "        raise ValueError('This function can only handle dy=1. Found dy={}'.format(Y.shape[1]))\n",
    "#     kcsd = cgof.KCSDTest(p, k, l)\n",
    "    n = X.shape[0]\n",
    "\n",
    "    gyx = torch.zeros(n)\n",
    "    for i in range(n):\n",
    "        xi = X[[i]]\n",
    "\n",
    "        # sample Y | xi\n",
    "        xirep = xi.repeat(n_sample, 1)\n",
    "        Yi = cs(xirep, seed=seed)\n",
    "        # n_sample x 1\n",
    "        pgl = p.grad_log(xirep, Yi)\n",
    "\n",
    "        yi = Y[[i]]\n",
    "        # n_sample x 1\n",
    "        grad_yi = l.gradX_Y(Yi, yi, dim=0)\n",
    "        Lyi = l.eval(Yi, yi)\n",
    "        Xi = Lyi*pgl + grad_yi\n",
    "        gyx[i] = Xi.mean()\n",
    "    return gyx\n",
    "    "
   ]
  },
  {
   "cell_type": "code",
   "execution_count": null,
   "metadata": {},
   "outputs": [],
   "source": [
    "n_sample = 1000\n",
    "mdomY, mdomX = torch.meshgrid(domY.view(-1), domX.view(-1))\n",
    "flat_gyx = cond_stein_wit(mdomX.reshape(-1, 1), mdomY.reshape(-1, 1), \n",
    "                          p, cs, l, n_sample=n_sample)"
   ]
  },
  {
   "cell_type": "code",
   "execution_count": null,
   "metadata": {
    "scrolled": false
   },
   "outputs": [],
   "source": [
    "Gyx = flat_gyx.view(mdomX.shape)\n",
    "\n",
    "np_mdomX = mdomX.detach().numpy()\n",
    "np_mdomY = mdomY.detach().numpy()\n",
    "np_Gyx = Gyx.detach().numpy()\n",
    "\n",
    "elev_min=np.min(np_Gyx) \n",
    "elev_max=np.max(np_Gyx) \n",
    "mid_val=0\n",
    "\n",
    "# set the colormap and centre the colorbar\n",
    "# https://stackoverflow.com/questions/7404116/defining-the-midpoint-of-a-colormap-in-matplotlib\n",
    "import matplotlib.colors as colors\n",
    "from matplotlib import colors\n",
    "color_norm = colors.DivergingNorm(vmin=elev_min, vcenter=0., vmax=elev_max)\n",
    "\n",
    "# contour plot\n",
    "plt.figure(figsize=(8, 5))\n",
    "\n",
    "plt.contourf(np_mdomX, np_mdomY, np_Gyx, levels=40, \n",
    "#              clim=(elev_min, elev_max), \n",
    "             norm=color_norm,\n",
    "             cmap='bwr',\n",
    "            )\n",
    "plt.xlabel('x')\n",
    "plt.ylabel('y')\n",
    "plt.xticks(xticks_range)\n",
    "plt.colorbar()\n",
    "plt.savefig('present/cond_stein_wit.pdf', bbox_inches='tight')"
   ]
  },
  {
   "cell_type": "markdown",
   "metadata": {},
   "source": [
    "Same figure plotted as a 3d surface"
   ]
  },
  {
   "cell_type": "code",
   "execution_count": null,
   "metadata": {},
   "outputs": [],
   "source": [
    "# This import registers the 3D projection, but is otherwise unused.\n",
    "from mpl_toolkits.mplot3d import Axes3D  # noqa: F401 unused import\n",
    "\n",
    "import matplotlib.pyplot as plt\n",
    "from matplotlib import cm\n",
    "from matplotlib.ticker import LinearLocator, FormatStrFormatter\n",
    "\n",
    "fig = plt.figure(figsize=(8,5))\n",
    "ax = fig.gca(projection='3d')\n",
    "\n",
    "\n",
    "# make the panes transparent\n",
    "# ax.xaxis.set_pane_color((1.0, 1.0, 1.0, 0.0))\n",
    "# ax.yaxis.set_pane_color((1.0, 1.0, 1.0, 0.0))\n",
    "# ax.zaxis.set_pane_color((1.0, 1.0, 1.0, 0.0))\n",
    "\n",
    "# Plot the surface.\n",
    "ax.view_init(25, 240)\n",
    "surf = ax.plot_surface(np_mdomX, np_mdomY, np_Gyx,\n",
    "                       linewidth=0, antialiased=True, norm=color_norm,\n",
    "                      cmap='bwr')\n",
    "\n",
    "# Customize the z axis.\n",
    "# ax.set_zlim(-1.01, 1.01)\n",
    "# ax.zaxis.set_major_locator(LinearLocator(10))\n",
    "# ax.zaxis.set_major_formatter(FormatStrFormatter('%.02f'))\n",
    "\n",
    "# Add a color bar which maps values to colors.\n",
    "# fig.colorbar(surf, shrink=0.5, aspect=5)\n",
    "plt.xlabel('x')\n",
    "plt.ylabel('y')\n",
    "ax.set_zlabel('g(y|x)')\n",
    "ax.set_yticks([0, 5, 10])\n",
    "ax.set_zticks([-0.4, 0, 0.4])\n",
    "plt.show()\n",
    "fig.savefig('present/cond_stein_wit_3d.pdf', bbox_inches='tight')"
   ]
  },
  {
   "cell_type": "markdown",
   "metadata": {},
   "source": [
    "Now plot the witness function of KCSD. Still a function of both (x,y)."
   ]
  },
  {
   "cell_type": "code",
   "execution_count": null,
   "metadata": {},
   "outputs": [],
   "source": [
    "def kcsd_wit(X, Y, Xrep, Yrep, p, k, l):\n",
    "    \"\"\"    \n",
    "    Return a Torch tensor of length n, where n = X.shape[0] = Y.shape[0]\n",
    "    - X, Y: points to evaluate the witness\n",
    "    - Xrep, Yrep: points used to represent the witness. May require a large sample.\n",
    "    \"\"\"\n",
    "    if Y.shape[1] != 1:\n",
    "        raise ValueError('This function can only handle dy=1. Found dy={}'.format(Y.shape[1]))\n",
    "\n",
    "    n = X.shape[0]\n",
    "    \n",
    "    gyx = torch.zeros(n)\n",
    "\n",
    "    pgl = p.grad_log(Xrep, Yrep)\n",
    "    Lrep = l.eval(Yrep, Y)\n",
    "    Lgrad = l.gradX_Y(Yrep, Y, dim=0)\n",
    "    Krep = k.eval(Xrep, X)\n",
    "\n",
    "    S = Krep*(pgl*Lrep + Lgrad)\n",
    "    return S.mean(0)"
   ]
  },
  {
   "cell_type": "code",
   "execution_count": null,
   "metadata": {},
   "outputs": [],
   "source": [
    "p, cs, rx, X, Y = get_rhet_plin_problem(n=20000, seed=9)\n",
    "# k = kernel on X\n",
    "k = ker.PTKGauss(sigma2=0.15)\n",
    "\n",
    "flat_kcsd_wit = kcsd_wit(mdomX.reshape(-1, 1), mdomY.reshape(-1, 1), Xrep=X, Yrep=Y, p=p, k=k, l=l)\n",
    "Kwit = flat_kcsd_wit.view(mdomX.shape)"
   ]
  },
  {
   "cell_type": "code",
   "execution_count": null,
   "metadata": {},
   "outputs": [],
   "source": [
    "np_Kwit = Kwit.detach().numpy()\n",
    "elev_min=np.min(np_Kwit) \n",
    "elev_max=np.max(np_Kwit) \n",
    "mid_val=0\n",
    "\n",
    "# set the colormap and centre the colorbar\n",
    "# https://stackoverflow.com/questions/7404116/defining-the-midpoint-of-a-colormap-in-matplotlib\n",
    "import matplotlib.colors as colors\n",
    "from matplotlib import colors\n",
    "color_norm = colors.DivergingNorm(vmin=elev_min, vcenter=0., vmax=elev_max)\n",
    "\n",
    "# contour plot\n",
    "plt.figure(figsize=(8, 5))\n",
    "\n",
    "plt.contourf(np_mdomX, np_mdomY, np_Kwit, levels=30, \n",
    "#              clim=(elev_min, elev_max), \n",
    "             norm=color_norm,\n",
    "             cmap='bwr',\n",
    "            )\n",
    "plt.xlabel('x')\n",
    "plt.ylabel('y')\n",
    "plt.xticks(xticks_range)\n",
    "plt.colorbar()\n",
    "\n",
    "plt.savefig('present/smooth_cond_stein_wit.pdf', bbox_inches='tight')"
   ]
  },
  {
   "cell_type": "markdown",
   "metadata": {},
   "source": [
    "FSCD witness function. This is different from the KCSD witness above. \n",
    "The FSCD witness is only a function of x."
   ]
  },
  {
   "cell_type": "code",
   "execution_count": null,
   "metadata": {},
   "outputs": [],
   "source": [
    "domX = torch.linspace(torch.min(X)-ep, torch.max(X)+ep, 300)\n",
    "p, cs, rx, X, Y = get_rhet_plin_problem(n=4000, seed=8)\n",
    "fscd_pc = cgof.FSCDPowerCriterion(p, k, l, X=X, Y=Y)\n",
    "fscd_wit = fscd_pc.eval_witness(at=domX.reshape(-1, 1))"
   ]
  },
  {
   "cell_type": "code",
   "execution_count": null,
   "metadata": {},
   "outputs": [],
   "source": [
    "# plot the Fscd witness\n",
    "np_domX = domX.detach().numpy()\n",
    "np_fscd_wit = fscd_wit.detach().numpy()\n",
    "plt.figure(figsize=(8, 3))\n",
    "plt.plot(np_domX, np_fscd_wit, 'g-')\n",
    "plt.xlabel('x')\n",
    "plt.xticks(xticks_range)\n",
    "plt.box(False)\n",
    "ax = plt.gca()\n",
    "ax.get_yaxis().set_visible(False)\n",
    "\n",
    "plt.savefig('present/fscd_witness.pdf', bbox_inches='tight')"
   ]
  },
  {
   "cell_type": "code",
   "execution_count": null,
   "metadata": {},
   "outputs": [],
   "source": []
  },
  {
   "cell_type": "code",
   "execution_count": null,
   "metadata": {},
   "outputs": [],
   "source": []
  },
  {
   "cell_type": "code",
   "execution_count": null,
   "metadata": {},
   "outputs": [],
   "source": []
  },
  {
   "cell_type": "code",
   "execution_count": null,
   "metadata": {},
   "outputs": [],
   "source": []
  },
  {
   "cell_type": "code",
   "execution_count": null,
   "metadata": {},
   "outputs": [],
   "source": []
  },
  {
   "cell_type": "code",
   "execution_count": null,
   "metadata": {},
   "outputs": [],
   "source": []
  },
  {
   "cell_type": "code",
   "execution_count": null,
   "metadata": {},
   "outputs": [],
   "source": []
  },
  {
   "cell_type": "code",
   "execution_count": null,
   "metadata": {},
   "outputs": [],
   "source": []
  },
  {
   "cell_type": "code",
   "execution_count": null,
   "metadata": {},
   "outputs": [],
   "source": []
  },
  {
   "cell_type": "code",
   "execution_count": null,
   "metadata": {},
   "outputs": [],
   "source": []
  },
  {
   "cell_type": "code",
   "execution_count": null,
   "metadata": {},
   "outputs": [],
   "source": []
  },
  {
   "cell_type": "code",
   "execution_count": null,
   "metadata": {},
   "outputs": [],
   "source": []
  }
 ],
 "metadata": {
  "kernelspec": {
   "display_name": "Python 3",
   "language": "python",
   "name": "python3"
  },
  "language_info": {
   "codemirror_mode": {
    "name": "ipython",
    "version": 3
   },
   "file_extension": ".py",
   "mimetype": "text/x-python",
   "name": "python",
   "nbconvert_exporter": "python",
   "pygments_lexer": "ipython3",
   "version": "3.7.7"
  }
 },
 "nbformat": 4,
 "nbformat_minor": 4
}
