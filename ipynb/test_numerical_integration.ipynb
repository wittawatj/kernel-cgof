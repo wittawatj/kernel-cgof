{
 "cells": [
  {
   "cell_type": "markdown",
   "metadata": {},
   "source": [
    "For testing numerical integration "
   ]
  },
  {
   "cell_type": "code",
   "execution_count": null,
   "metadata": {},
   "outputs": [],
   "source": [
    "%load_ext autoreload\n",
    "%autoreload 2"
   ]
  },
  {
   "cell_type": "code",
   "execution_count": null,
   "metadata": {},
   "outputs": [],
   "source": [
    "import kcgof.cgoftest as cgof\n",
    "import kcgof.cdensity as cd\n",
    "import kcgof.util as util\n",
    "import kcgof.kernel as kernel\n",
    "import scipy\n",
    "\n",
    "from scipy.integrate import quad\n",
    "import numpy\n",
    "from numpy.polynomial import legendre\n",
    "\n",
    "import numpy as np\n",
    "import torch.distributions as dists\n",
    "import torch"
   ]
  },
  {
   "cell_type": "markdown",
   "metadata": {},
   "source": [
    "## 2nd-order polynomial"
   ]
  },
  {
   "cell_type": "markdown",
   "metadata": {},
   "source": [
    "$ f(x) = 2 x^2 - 3x$\n",
    "\n",
    "$ \\int f(x) dx = 2x^3/3 - 3x^2/2$\n",
    "\n",
    "https://www.wolframalpha.com/input/?i=integrate%5B2*x%5E2+-+3x%5D"
   ]
  },
  {
   "cell_type": "markdown",
   "metadata": {},
   "source": [
    "### Gauss-Legendre\n",
    "\n",
    "* scipy function https://docs.scipy.org/doc/numpy/reference/generated/numpy.polynomial.legendre.leggauss.html\n",
    "\n",
    "* To change the default interval of [1,1], https://en.wikipedia.org/wiki/Gaussian_quadrature\n",
    "\n"
   ]
  },
  {
   "cell_type": "code",
   "execution_count": null,
   "metadata": {},
   "outputs": [],
   "source": [
    "# integration lower limit\n",
    "lb = -80.0\n",
    "# integration upper limit\n",
    "ub = 500.0\n",
    "\n",
    "f = lambda x: 2.0*x**2 - 3.0*x\n",
    "F = lambda x: 2.0*x**3/3 - 3.0*x**2/2"
   ]
  },
  {
   "cell_type": "code",
   "execution_count": null,
   "metadata": {},
   "outputs": [],
   "source": [
    "# exact solution\n",
    "exact_int = F(ub) - F(lb)\n",
    "print('exact integration: {}'.format(exact_int))"
   ]
  },
  {
   "cell_type": "code",
   "execution_count": null,
   "metadata": {},
   "outputs": [],
   "source": [
    "n = 100\n",
    "X, W = legendre.leggauss(n)\n",
    "f_arg = (ub-lb)/2.0*X + (ub+lb)/2.0 \n",
    "gaussleg_int = 0.5*(ub-lb)*W.dot( f(f_arg) )\n",
    "print('Gauss-Legendre: {}'.format(gaussleg_int))"
   ]
  },
  {
   "cell_type": "code",
   "execution_count": null,
   "metadata": {},
   "outputs": [],
   "source": []
  },
  {
   "cell_type": "code",
   "execution_count": null,
   "metadata": {},
   "outputs": [],
   "source": []
  },
  {
   "cell_type": "code",
   "execution_count": null,
   "metadata": {},
   "outputs": [],
   "source": []
  },
  {
   "cell_type": "code",
   "execution_count": null,
   "metadata": {},
   "outputs": [],
   "source": []
  },
  {
   "cell_type": "code",
   "execution_count": null,
   "metadata": {},
   "outputs": [],
   "source": []
  },
  {
   "cell_type": "code",
   "execution_count": null,
   "metadata": {},
   "outputs": [],
   "source": []
  },
  {
   "cell_type": "code",
   "execution_count": null,
   "metadata": {},
   "outputs": [],
   "source": []
  },
  {
   "cell_type": "code",
   "execution_count": null,
   "metadata": {},
   "outputs": [],
   "source": []
  },
  {
   "cell_type": "code",
   "execution_count": null,
   "metadata": {},
   "outputs": [],
   "source": []
  }
 ],
 "metadata": {
  "kernelspec": {
   "display_name": "Python 3",
   "language": "python",
   "name": "python3"
  },
  "language_info": {
   "codemirror_mode": {
    "name": "ipython",
    "version": 3
   },
   "file_extension": ".py",
   "mimetype": "text/x-python",
   "name": "python",
   "nbconvert_exporter": "python",
   "pygments_lexer": "ipython3",
   "version": "3.8.1"
  }
 },
 "nbformat": 4,
 "nbformat_minor": 4
}
