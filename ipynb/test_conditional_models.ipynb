{
 "cells": [
  {
   "cell_type": "markdown",
   "metadata": {},
   "source": [
    "Notebook to test models in `cdensity.py` and CondSource in `cdata.py`."
   ]
  },
  {
   "cell_type": "code",
   "execution_count": null,
   "metadata": {},
   "outputs": [],
   "source": [
    "%load_ext autoreload\n",
    "%autoreload 2\n",
    "%matplotlib inline\n",
    "#%config InlineBackend.figure_format = 'svg'\n",
    "#%config InlineBackend.figure_format = 'pdf'\n",
    "\n"
   ]
  },
  {
   "cell_type": "code",
   "execution_count": null,
   "metadata": {},
   "outputs": [],
   "source": [
    "import torch\n",
    "import torch.distributions as dists\n",
    "\n",
    "import kcgof\n",
    "import kcgof.log as klog\n",
    "import kcgof.util as util\n",
    "import kcgof.cdensity as cden\n",
    "import kcgof.cdata as cdat\n",
    "import kcgof.plot as plot"
   ]
  },
  {
   "cell_type": "code",
   "execution_count": null,
   "metadata": {},
   "outputs": [],
   "source": [
    "import matplotlib\n",
    "import matplotlib.pyplot as plt\n",
    "\n",
    "# font options\n",
    "font = {\n",
    "    #'family' : 'normal',\n",
    "    #'weight' : 'bold',\n",
    "    'size'   : 24\n",
    "}\n",
    "\n",
    "plt.rc('font', **font)\n",
    "plt.rc('lines', linewidth=2)\n",
    "matplotlib.rcParams['pdf.fonttype'] = 42\n",
    "matplotlib.rcParams['ps.fonttype'] = 42"
   ]
  },
  {
   "cell_type": "markdown",
   "metadata": {},
   "source": [
    "## Ordinary least squares with Gaussian noise"
   ]
  },
  {
   "cell_type": "code",
   "execution_count": null,
   "metadata": {},
   "outputs": [],
   "source": [
    "# 2d\n",
    "dx = 1\n",
    "n = 50\n",
    "X = torch.randn(n, dx)\n",
    "slope = torch.tensor([2.0])\n",
    "\n",
    "cs = cdat.CSGaussianOLS(slope=slope, c=-1.0, variance=1.0)\n"
   ]
  },
  {
   "cell_type": "code",
   "execution_count": null,
   "metadata": {},
   "outputs": [],
   "source": [
    "Y = cs(X, seed=1)"
   ]
  },
  {
   "cell_type": "code",
   "execution_count": null,
   "metadata": {},
   "outputs": [],
   "source": [
    "plt.plot(X,Y, 'bo')"
   ]
  },
  {
   "cell_type": "markdown",
   "metadata": {},
   "source": [
    "## Least squares with heteroscedastic Gaussian noise"
   ]
  },
  {
   "cell_type": "code",
   "execution_count": null,
   "metadata": {},
   "outputs": [],
   "source": [
    "# 2d\n",
    "dx = 1\n",
    "n = 200\n",
    "rx = dists.Normal(0, 1)\n",
    "X = rx.sample((n, dx))\n",
    "\n",
    "# model\n",
    "def f_mean(X):\n",
    "    return torch.mean(X, dim=1, keepdim=True)\n",
    "\n",
    "def f_variance(X):\n",
    "#     \\sigma^2(x) = 0.5 + exp(-(x - 1)^2/0.1^2).\n",
    "    std = 0.1\n",
    "    spike_var = 4.0\n",
    "    return 0.5 + spike_var*torch.exp(-(X-1.0)**2/std**2)\n",
    "    \n",
    "p = cden.CDGaussianHetero(f_mean, f_variance, dx=dx )\n",
    "cs = p.get_condsource()\n",
    "# cs = cdat.CSGaussianOLS(slope=slope, c=-1.0, variance=1.0)\n",
    "\n",
    "# sample Y from the cond source\n",
    "Y = cs(X, seed=3)"
   ]
  },
  {
   "cell_type": "code",
   "execution_count": null,
   "metadata": {},
   "outputs": [],
   "source": [
    "ep = 0.7\n",
    "# make a grid that covers X\n",
    "\n",
    "domX = torch.linspace(torch.min(X)-ep, torch.max(X)+ep, 100)\n",
    "domY = torch.linspace(torch.min(Y).item()-ep, torch.max(Y).item()+ep, 200)\n",
    "\n",
    "\n",
    "fig, axes = plot.plot_2d_cond_model(\n",
    "    p, \n",
    "    lambda X: torch.exp(rx.log_prob(X)), \n",
    "    X, Y, domX=domX, domY=domY, \n",
    "    height_ratios=[2,1],\n",
    "    cmap='pink_r', levels=50)\n",
    "# plt.xlabel('$x$')\n",
    "# plot.plot_2d_cond_data(X, Y)"
   ]
  },
  {
   "cell_type": "markdown",
   "metadata": {},
   "source": [
    "## g_het_dx"
   ]
  },
  {
   "cell_type": "code",
   "execution_count": null,
   "metadata": {},
   "outputs": [],
   "source": [
    "# 2d\n",
    "dx = 1\n",
    "n = 100\n",
    "rx = dists.Normal(0, 1)\n",
    "X = rx.sample((n, dx))\n",
    "noise_variance = 1.0\n",
    "p = cden.CDAdditiveNoiseRegression(\n",
    "            f=lambda X: X.sum(dim=1) - 1.0,\n",
    "            noise=dists.Normal(0, scale=noise_variance**0.5), dx=1\n",
    "      )\n",
    "\n",
    "cs = cdat.CSGaussianHetero(\n",
    "    f = lambda X: X.sum(dim=1) - 1.0,\n",
    "    #f_variance = lambda X: noise_variance*torch.ones(X.shape[0]),\n",
    "    f_variance= lambda X: 1.0 + \n",
    "        10.0*( torch.sum( (X- 2.0)**2, dim=1)**0.5 <= 0.3),\n",
    "    # f_variance= lambda X: 1.0 + g_het_dx5_spike_var*torch.exp( -torch.sum( (X -\n",
    "    # g_het_dx5_center)**2, dim=1 )/0.2**2 ),\n",
    "    dx=1\n",
    ")\n",
    "\n",
    "# sample Y from the cond source\n",
    "Y = cs(X, seed=3)"
   ]
  },
  {
   "cell_type": "code",
   "execution_count": null,
   "metadata": {},
   "outputs": [],
   "source": [
    "ep = 0.7\n",
    "# make a grid that covers X\n",
    "\n",
    "domX = torch.linspace(torch.min(X)-ep, torch.max(X)+ep, 100)\n",
    "domY = torch.linspace(torch.min(Y).item()-ep, torch.max(Y).item()+ep, 100)\n",
    "\n",
    "\n",
    "fig, axes = plot.plot_2d_cond_model(\n",
    "    p, \n",
    "    lambda X: torch.exp(rx.log_prob(X)), \n",
    "    X, Y, domX=domX, domY=domY, \n",
    "    height_ratios=[2,1],\n",
    "    cmap='pink_r', levels=50)\n",
    "# plt.xlabel('$x$')\n",
    "# plot.plot_2d_cond_data(X, Y)"
   ]
  },
  {
   "cell_type": "code",
   "execution_count": null,
   "metadata": {},
   "outputs": [],
   "source": []
  },
  {
   "cell_type": "code",
   "execution_count": null,
   "metadata": {},
   "outputs": [],
   "source": []
  },
  {
   "cell_type": "code",
   "execution_count": null,
   "metadata": {},
   "outputs": [],
   "source": []
  },
  {
   "cell_type": "code",
   "execution_count": null,
   "metadata": {},
   "outputs": [],
   "source": []
  },
  {
   "cell_type": "code",
   "execution_count": null,
   "metadata": {},
   "outputs": [],
   "source": []
  },
  {
   "cell_type": "code",
   "execution_count": null,
   "metadata": {},
   "outputs": [],
   "source": []
  }
 ],
 "metadata": {
  "kernelspec": {
   "display_name": "Python 3",
   "language": "python",
   "name": "python3"
  },
  "language_info": {
   "codemirror_mode": {
    "name": "ipython",
    "version": 3
   },
   "file_extension": ".py",
   "mimetype": "text/x-python",
   "name": "python",
   "nbconvert_exporter": "python",
   "pygments_lexer": "ipython3",
   "version": "3.8.1"
  }
 },
 "nbformat": 4,
 "nbformat_minor": 4
}
