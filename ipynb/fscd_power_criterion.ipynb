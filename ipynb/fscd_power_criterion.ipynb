{
 "cells": [
  {
   "cell_type": "markdown",
   "metadata": {},
   "source": [
    "A notebook to plot the power criterion functinon of the FSCD test."
   ]
  },
  {
   "cell_type": "code",
   "execution_count": null,
   "metadata": {},
   "outputs": [],
   "source": [
    "%load_ext autoreload\n",
    "%autoreload 2\n",
    "%matplotlib inline\n",
    "#%config InlineBackend.figure_format = 'svg'\n",
    "#%config InlineBackend.figure_format = 'pdf'\n",
    "\n"
   ]
  },
  {
   "cell_type": "code",
   "execution_count": null,
   "metadata": {},
   "outputs": [],
   "source": [
    "import numpy as np\n",
    "import torch\n",
    "import torch.distributions as dists\n",
    "\n",
    "import kcgof\n",
    "import kcgof.log as klog\n",
    "import kcgof.util as util\n",
    "import kcgof.cdensity as cden\n",
    "import kcgof.cdata as cdat\n",
    "import kcgof.cgoftest as cgof\n",
    "import kcgof.kernel as ker\n",
    "import kcgof.plot as plot"
   ]
  },
  {
   "cell_type": "code",
   "execution_count": null,
   "metadata": {},
   "outputs": [],
   "source": [
    "import matplotlib\n",
    "import matplotlib.pyplot as plt\n",
    "\n",
    "# font options\n",
    "font = {\n",
    "    #'family' : 'normal',\n",
    "    #'weight' : 'bold',\n",
    "    'size'   : 30\n",
    "}\n",
    "\n",
    "plt.rc('font', **font)\n",
    "plt.rc('lines', linewidth=2)\n",
    "matplotlib.rcParams['text.usetex'] = True\n",
    "matplotlib.rcParams['pdf.fonttype'] = 42\n",
    "matplotlib.rcParams['ps.fonttype'] = 42"
   ]
  },
  {
   "cell_type": "markdown",
   "metadata": {},
   "source": [
    "## Regression problem"
   ]
  },
  {
   "cell_type": "code",
   "execution_count": null,
   "metadata": {},
   "outputs": [],
   "source": [
    "def get_additive_reg_problem(rx_mode='gauss'):\n",
    "    '''\n",
    "    rx_mode: \"gauss\" to use a Gaussian distribution for rx. \n",
    "        \"unif\" to use a uniform distribution\n",
    "    '''\n",
    "    dx = 1\n",
    "\n",
    "    slope = torch.tensor([0.5])\n",
    "    noise_variance = 1.0\n",
    "    c = 1.0\n",
    "\n",
    "    # set up the conditional probability model\n",
    "    # f = regression function\n",
    "    f = lambda x: 1.0*x + 0.5*x**2 -1\n",
    "    gaussian_noise = dists.Normal(0, 1)\n",
    "    p = cden.CDAdditiveNoiseRegression(f=f, noise=gaussian_noise, dx=1)\n",
    "    \n",
    "    # generate some toy data \n",
    "    # CondSource\n",
    "    fr = lambda x: 1.0*x + 0.4*x**2 - 1\n",
    "    cs = cdat.CSAdditiveNoiseRegression(f=fr, noise=gaussian_noise, dx=1)\n",
    "\n",
    "    # sample Y conditioned on X\n",
    "    n = 400 # sample size\n",
    "    with util.TorchSeedContext(seed=21):\n",
    "        if rx_mode == 'gauss':\n",
    "            rx = dists.Normal(2, 1) \n",
    "        elif rx_mode == 'unif':\n",
    "            rx = dists.Uniform(2, 3)\n",
    "        else:\n",
    "            raise ValueError('Unknown rx_mode')\n",
    "        X = rx.sample((n, dx))\n",
    "    Y = cs(X, seed=28)\n",
    "    \n",
    "    return p, cs, rx, X, Y"
   ]
  },
  {
   "cell_type": "code",
   "execution_count": null,
   "metadata": {},
   "outputs": [],
   "source": [
    "def get_hetero_reg_problem():\n",
    "    \"\"\"\n",
    "    Heteroscedastic noise. Regression.\n",
    "    \"\"\"\n",
    "    g_het_dx5_center = torch.tensor([1.0])\n",
    "#     g_het_dx5_center = torch.tensor([2.0/3])\n",
    "    g_het_dx5_spike_var = 8\n",
    "    dx = 1\n",
    "    # p(y|x)\n",
    "    p = cden.CDGaussianHetero(\n",
    "        f=lambda X: X.sum(dim=1),\n",
    "    \n",
    "        f_variance= lambda X: 1.0 \n",
    "            + g_het_dx5_spike_var*torch.exp( -0.5*torch.sum( (X -\n",
    "            g_het_dx5_center)**2, dim=1 )/0.3**2 ),\n",
    "        dx=dx\n",
    "    )\n",
    "    # rx\n",
    "    rx = dists.Normal(0, 1)    \n",
    "    # r(y|x)\n",
    "    cs = cdat.CSAdditiveNoiseRegression(\n",
    "        f=lambda X: X.sum(dim=1),\n",
    "        noise=dists.Normal(0, 1.0), dx=dx)\n",
    "    \n",
    "    # sample Y conditioned on X\n",
    "    n = 400 # sample size\n",
    "    with util.TorchSeedContext(seed=19):\n",
    "        X = rx.sample((n, dx))\n",
    "    Y = cs(X, seed=29)\n",
    "    return p, cs, rx, X, Y\n",
    "    "
   ]
  },
  {
   "cell_type": "code",
   "execution_count": null,
   "metadata": {},
   "outputs": [],
   "source": [
    "def get_lin_reg_unif_problem():\n",
    "    '''\n",
    "    '''\n",
    "    dx = 1\n",
    "    noise_variance = 1.0\n",
    "    c = 1.0\n",
    "\n",
    "    # set up the conditional probability model\n",
    "    # f = regression function\n",
    "    f = lambda x: -x+c\n",
    "    gaussian_noise = dists.Normal(0, 1)\n",
    "    p = cden.CDAdditiveNoiseRegression(f=f, noise=gaussian_noise, dx=1)\n",
    "    \n",
    "    # generate some toy data \n",
    "    # CondSource\n",
    "    fr = lambda x: -1.5*x + c\n",
    "    cs = cdat.CSAdditiveNoiseRegression(f=fr, noise=gaussian_noise, dx=1)\n",
    "\n",
    "    # sample Y conditioned on X\n",
    "    n = 400 # sample size\n",
    "    with util.TorchSeedContext(seed=22):\n",
    "        rx = dists.Normal(0, 1) \n",
    "        X = rx.sample((n, dx))\n",
    "    Y = cs(X, seed=29)\n",
    "    \n",
    "    return p, cs, rx, X, Y"
   ]
  },
  {
   "cell_type": "code",
   "execution_count": null,
   "metadata": {},
   "outputs": [],
   "source": [
    "p, cs, rx, X, Y = get_additive_reg_problem(rx_mode='unif')\n",
    "# p, cs, rx, X, Y = get_lin_reg_unif_problem()\n",
    "# p, cs, rx, X, Y = get_additive_reg_problem(rx_mode='gauss')\n",
    "# p, cs, rx, X, Y = get_hetero_reg_problem()"
   ]
  },
  {
   "cell_type": "markdown",
   "metadata": {},
   "source": [
    "Plot data, the model, and the power criterion of FSCD."
   ]
  },
  {
   "cell_type": "code",
   "execution_count": null,
   "metadata": {},
   "outputs": [],
   "source": [
    "# kernels\n",
    "# k = kernel on X\n",
    "# l = kernel on Y\n",
    "k = ker.PTKGauss(sigma2=1)\n",
    "l = ker.PTKGauss(sigma2=1)"
   ]
  },
  {
   "cell_type": "code",
   "execution_count": null,
   "metadata": {},
   "outputs": [],
   "source": [
    "ep = 1\n",
    "# make a grid that covers X\n",
    "\n",
    "domX = torch.linspace(torch.min(X)-ep, torch.max(X)+ep, 70)\n",
    "domY = torch.linspace(torch.min(Y).item()-ep, torch.max(Y).item()+ep, 70)\n",
    "\n",
    "fscd_pc = cgof.FSCDPowerCriterion(p, k, l, X, Y)\n",
    "\n",
    "# evaluate the power criterion function\n",
    "wit_values = fscd_pc.eval_witness(at=domX.unsqueeze(1))\n",
    "pow_cri_values = fscd_pc.eval_power_criterion(at=domX.unsqueeze(1).unsqueeze(1))"
   ]
  },
  {
   "cell_type": "code",
   "execution_count": null,
   "metadata": {},
   "outputs": [],
   "source": [
    "fig, axes = plot.plot_2d_cond_model(\n",
    "    p, \n",
    "    lambda X: torch.exp(rx.log_prob(X)), \n",
    "    X, Y, domX=domX, domY=domY, \n",
    "    height_ratios=[2,1],\n",
    "    cmap='pink_r', levels=50)\n",
    "# plt.xlabel('$x$')\n",
    "# plot.plot_2d_cond_data(X, Y)"
   ]
  },
  {
   "cell_type": "markdown",
   "metadata": {},
   "source": [
    "Add power criterion as a subplot"
   ]
  },
  {
   "cell_type": "code",
   "execution_count": null,
   "metadata": {},
   "outputs": [],
   "source": [
    "mark_highest_powcri = False\n",
    "\n",
    "npdomX = domX.detach().numpy()\n",
    "\n",
    "# plt.figure(figsize=(8, 5))\n",
    "# plt.plot(npX, wit_values.detach().numpy(), 'bo', label='witness')\n",
    "ax_pow = axes[1]\n",
    "# ax3.plot(npdomX, wit_values.detach().numpy(), 'b-', label='Witness')\n",
    "ax_pow.plot(npdomX, pow_cri_values.detach().numpy(), 'g-', label='Power Cri.')\n",
    "\n",
    "# ax3.legend()\n",
    "# ax_pow.legend(\n",
    "# #     bbox_to_anchor=(1.5, 1), \n",
    "#            loc='lower left', ncol=1)\n",
    "\n",
    "# mark the highest point\n",
    "if mark_highest_powcri:\n",
    "    imax = torch.argmax(pow_cri_values)\n",
    "    ax_pow.vlines(x=npdomX[imax], ymin=0, ymax=pow_cri_values[imax], \n",
    "                  linestyles='dashed', color='g')\n",
    "    ax_pow.annotate('$v$', (npdomX[imax], -0.02), xytext=(npdomX[imax]-0.1, -0.13))\n",
    "\n",
    "# ax.annotate('local max', xy=(2, 1), xytext=(3, 1.5),\n",
    "#             arrowprops=dict(facecolor='black', shrink=0.05),\n",
    "#             )\n"
   ]
  },
  {
   "cell_type": "code",
   "execution_count": null,
   "metadata": {},
   "outputs": [],
   "source": [
    "fig.set_figheight(5)\n",
    "fig.set_figwidth(7)\n",
    "fig.tight_layout()\n",
    "# fig.savefig('pc_het_gauss.pdf', bbox_inches='tight')\n",
    "fig.savefig('pc_quad_reg_unif.pdf', bbox_inches='tight')\n",
    "# fig.savefig('pc_quad_quad.pdf', bbox_inches='tight')\n",
    "fig"
   ]
  },
  {
   "cell_type": "code",
   "execution_count": null,
   "metadata": {},
   "outputs": [],
   "source": []
  },
  {
   "cell_type": "code",
   "execution_count": null,
   "metadata": {},
   "outputs": [],
   "source": []
  },
  {
   "cell_type": "code",
   "execution_count": null,
   "metadata": {},
   "outputs": [],
   "source": []
  },
  {
   "cell_type": "code",
   "execution_count": null,
   "metadata": {},
   "outputs": [],
   "source": []
  },
  {
   "cell_type": "code",
   "execution_count": null,
   "metadata": {},
   "outputs": [],
   "source": []
  },
  {
   "cell_type": "code",
   "execution_count": null,
   "metadata": {},
   "outputs": [],
   "source": []
  },
  {
   "cell_type": "code",
   "execution_count": null,
   "metadata": {},
   "outputs": [],
   "source": []
  },
  {
   "cell_type": "code",
   "execution_count": null,
   "metadata": {},
   "outputs": [],
   "source": []
  },
  {
   "cell_type": "code",
   "execution_count": null,
   "metadata": {},
   "outputs": [],
   "source": []
  }
 ],
 "metadata": {
  "kernelspec": {
   "display_name": "Python 3",
   "language": "python",
   "name": "python3"
  },
  "language_info": {
   "codemirror_mode": {
    "name": "ipython",
    "version": 3
   },
   "file_extension": ".py",
   "mimetype": "text/x-python",
   "name": "python",
   "nbconvert_exporter": "python",
   "pygments_lexer": "ipython3",
   "version": "3.7.7"
  }
 },
 "nbformat": 4,
 "nbformat_minor": 4
}
