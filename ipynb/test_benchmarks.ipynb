{
 "cells": [
  {
   "cell_type": "code",
   "execution_count": 15,
   "metadata": {},
   "outputs": [
    {
     "name": "stdout",
     "output_type": "stream",
     "text": [
      "The autoreload extension is already loaded. To reload it, use:\n",
      "  %reload_ext autoreload\n"
     ]
    }
   ],
   "source": [
    "%load_ext autoreload\n",
    "%autoreload 2"
   ]
  },
  {
   "cell_type": "code",
   "execution_count": 16,
   "metadata": {},
   "outputs": [],
   "source": [
    "import kcgof.cgoftest as cgof\n",
    "import kcgof.cdensity as cd\n",
    "import kcgof.util as util\n",
    "import kcgof.kernel as kernel\n",
    "import scipy\n",
    "from scipy.integrate import quad\n",
    "import numpy as np\n",
    "import torch.distributions as dists\n",
    "import torch"
   ]
  },
  {
   "cell_type": "code",
   "execution_count": 10,
   "metadata": {},
   "outputs": [],
   "source": [
    "seed = 1\n",
    "n = 200\n",
    "dx = 1\n",
    "dy = 1\n",
    "alpha = 0.05"
   ]
  },
  {
   "cell_type": "markdown",
   "metadata": {},
   "source": [
    "# Zheng's method"
   ]
  },
  {
   "cell_type": "markdown",
   "metadata": {},
   "source": [
    "## Null"
   ]
  },
  {
   "cell_type": "code",
   "execution_count": 28,
   "metadata": {
    "scrolled": true
   },
   "outputs": [],
   "source": [
    "# model p\n",
    "p = cd.CDGaussianOLS(torch.ones(dx), c=0, variance=1.0)\n",
    "\n",
    "p_cs = p.get_condsource()\n",
    "\n",
    "with util.TorchSeedContext(seed=64):\n",
    "    X = torch.randn(n, dx)\n",
    "    Y = p_cs.cond_pair_sample(X, seed)\n"
   ]
  },
  {
   "cell_type": "code",
   "execution_count": 29,
   "metadata": {
    "scrolled": false
   },
   "outputs": [
    {
     "data": {
      "text/plain": [
       "{'alpha': 0.05,\n",
       " 'pvalue': 0.9474387661826774,\n",
       " 'test_stat': -1.6205113992457065,\n",
       " 'h0_rejected': False,\n",
       " 'time_secs': 1.452742576599121}"
      ]
     },
     "execution_count": 29,
     "metadata": {},
     "output_type": "execute_result"
    }
   ],
   "source": [
    "# zheng_test = cgof.ZhengKLTest(p, alpha)\n",
    "# zheng_test.perform_test(X, Y)\n",
    "\n",
    "# Zheng's test using Monte Carlo integration\n",
    "zheng_mc = cgof.ZhengKLTestMC(p, alpha, n_mc=2000, verbose=False)\n",
    "zheng_mc.perform_test(X, Y)"
   ]
  },
  {
   "cell_type": "markdown",
   "metadata": {},
   "source": [
    "## Alternative\n",
    "\n",
    "H1 is true"
   ]
  },
  {
   "cell_type": "code",
   "execution_count": 35,
   "metadata": {
    "scrolled": true
   },
   "outputs": [
    {
     "data": {
      "text/plain": [
       "{'alpha': 0.05,\n",
       " 'pvalue': 0.00048732907458659547,\n",
       " 'test_stat': 3.2977415116739115,\n",
       " 'h0_rejected': True,\n",
       " 'time_secs': 1.3736543655395508}"
      ]
     },
     "execution_count": 35,
     "metadata": {},
     "output_type": "execute_result"
    }
   ],
   "source": [
    "slope = 1.0\n",
    "bias = 0.8\n",
    "\n",
    "\n",
    "r = cd.CDGaussianOLS(slope*torch.ones(dx), torch.tensor(bias), variance=1.0)\n",
    "r_cs = r.get_condsource()\n",
    "X = torch.randn(n, dx)\n",
    "Y = r_cs.cond_pair_sample(X, seed)\n",
    "\n",
    "zheng_mc.perform_test(X, Y)"
   ]
  },
  {
   "cell_type": "markdown",
   "metadata": {},
   "source": [
    "# MMD"
   ]
  },
  {
   "cell_type": "code",
   "execution_count": null,
   "metadata": {},
   "outputs": [],
   "source": [
    "import freqopttest.tst as tst\n",
    "import freqopttest.data as fdata\n",
    "\n",
    "seed = 13\n",
    "n = 300\n",
    "dx = 2\n",
    "dy = 1\n",
    "alpha = 0.05"
   ]
  },
  {
   "cell_type": "markdown",
   "metadata": {},
   "source": [
    "## Null"
   ]
  },
  {
   "cell_type": "code",
   "execution_count": null,
   "metadata": {},
   "outputs": [],
   "source": [
    "ols = cd.CDGaussianOLS(torch.ones(dx), c=0, variance=1.0)\n",
    "with util.TorchSeedContext(seed=seed):\n",
    "    X = torch.randn(n, dx)\n",
    "source = ols.get_condsource()\n",
    "Y = source.cond_pair_sample(X, seed)\n",
    "med_x = util.meddistance(X.numpy(), 1000)\n",
    "med_y = util.meddistance(Y.numpy(), 1000)\n",
    "k = kernel.PTKGauss(med_x).numpy()\n",
    "l = kernel.PTKGauss(med_y).numpy()\n",
    "\n",
    "mmdtest = cgof.MMDTest(ols, k, l, alpha=alpha, seed=seed)"
   ]
  },
  {
   "cell_type": "code",
   "execution_count": null,
   "metadata": {},
   "outputs": [],
   "source": [
    "mmdtest.perform_test(X, Y)"
   ]
  },
  {
   "cell_type": "code",
   "execution_count": null,
   "metadata": {},
   "outputs": [],
   "source": []
  },
  {
   "cell_type": "code",
   "execution_count": null,
   "metadata": {},
   "outputs": [],
   "source": []
  },
  {
   "cell_type": "code",
   "execution_count": null,
   "metadata": {},
   "outputs": [],
   "source": []
  }
 ],
 "metadata": {
  "kernelspec": {
   "display_name": "Python 3",
   "language": "python",
   "name": "python3"
  }
 },
 "nbformat": 4,
 "nbformat_minor": 4
}
