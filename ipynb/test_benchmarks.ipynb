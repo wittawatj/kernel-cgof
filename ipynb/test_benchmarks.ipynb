{
 "cells": [
  {
   "cell_type": "code",
   "execution_count": 3,
   "metadata": {},
   "outputs": [
    {
     "name": "stdout",
     "output_type": "stream",
     "text": [
      "The autoreload extension is already loaded. To reload it, use:\n",
      "  %reload_ext autoreload\n"
     ]
    }
   ],
   "source": [
    "%load_ext autoreload\n",
    "%autoreload 2"
   ]
  },
  {
   "cell_type": "code",
   "execution_count": 10,
   "metadata": {},
   "outputs": [],
   "source": [
    "import kcgof.cgoftest as cgof\n",
    "import kcgof.cdensity as cd\n",
    "import kcgof.util as util\n",
    "import kcgof.kernel as kernel\n",
    "import scipy\n",
    "from scipy.integrate import quad\n",
    "import numpy as np\n",
    "import torch.distributions as dists\n",
    "import torch"
   ]
  },
  {
   "cell_type": "code",
   "execution_count": 4,
   "metadata": {},
   "outputs": [],
   "source": [
    "seed = 1\n",
    "n = 10\n",
    "dx = 1\n",
    "dy = 1\n",
    "alpha = 0.05"
   ]
  },
  {
   "cell_type": "markdown",
   "metadata": {},
   "source": [
    "# Zheng's method"
   ]
  },
  {
   "cell_type": "markdown",
   "metadata": {},
   "source": [
    "## Null"
   ]
  },
  {
   "cell_type": "code",
   "execution_count": 155,
   "metadata": {},
   "outputs": [
    {
     "ename": "KeyboardInterrupt",
     "evalue": "",
     "output_type": "error",
     "traceback": [
      "\u001b[0;31m---------------------------------------------------------------------------\u001b[0m",
      "\u001b[0;31mKeyboardInterrupt\u001b[0m                         Traceback (most recent call last)",
      "\u001b[0;32m<ipython-input-155-47677142aa61>\u001b[0m in \u001b[0;36m<module>\u001b[0;34m\u001b[0m\n\u001b[1;32m      4\u001b[0m \u001b[0mX\u001b[0m \u001b[0;34m=\u001b[0m \u001b[0mtorch\u001b[0m\u001b[0;34m.\u001b[0m\u001b[0mrandn\u001b[0m\u001b[0;34m(\u001b[0m\u001b[0mn\u001b[0m\u001b[0;34m,\u001b[0m \u001b[0mdx\u001b[0m\u001b[0;34m)\u001b[0m\u001b[0;34m\u001b[0m\u001b[0m\n\u001b[1;32m      5\u001b[0m \u001b[0mY\u001b[0m \u001b[0;34m=\u001b[0m \u001b[0msource\u001b[0m\u001b[0;34m.\u001b[0m\u001b[0mcond_pair_sample\u001b[0m\u001b[0;34m(\u001b[0m\u001b[0mX\u001b[0m\u001b[0;34m,\u001b[0m \u001b[0mseed\u001b[0m\u001b[0;34m)\u001b[0m\u001b[0;34m\u001b[0m\u001b[0m\n\u001b[0;32m----> 6\u001b[0;31m \u001b[0mzheng_test\u001b[0m\u001b[0;34m.\u001b[0m\u001b[0mperform_test\u001b[0m\u001b[0;34m(\u001b[0m\u001b[0mX\u001b[0m\u001b[0;34m,\u001b[0m \u001b[0mY\u001b[0m\u001b[0;34m)\u001b[0m\u001b[0;34m\u001b[0m\u001b[0m\n\u001b[0m",
      "\u001b[0;32m~/Work/kcgof/kcgof/cgoftest.py\u001b[0m in \u001b[0;36mperform_test\u001b[0;34m(self, X, Y)\u001b[0m\n\u001b[1;32m    588\u001b[0m             \u001b[0mtime_secs\u001b[0m\u001b[0;34m:\u001b[0m \u001b[0;34m...\u001b[0m\u001b[0;34m\u001b[0m\u001b[0m\n\u001b[1;32m    589\u001b[0m         }\n\u001b[0;32m--> 590\u001b[0;31m         \"\"\"\n\u001b[0m\u001b[1;32m    591\u001b[0m         \u001b[0;32mwith\u001b[0m \u001b[0mutil\u001b[0m\u001b[0;34m.\u001b[0m\u001b[0mContextTimer\u001b[0m\u001b[0;34m(\u001b[0m\u001b[0;34m)\u001b[0m \u001b[0;32mas\u001b[0m \u001b[0mt\u001b[0m\u001b[0;34m:\u001b[0m\u001b[0;34m\u001b[0m\u001b[0m\n\u001b[1;32m    592\u001b[0m             \u001b[0malpha\u001b[0m \u001b[0;34m=\u001b[0m \u001b[0mself\u001b[0m\u001b[0;34m.\u001b[0m\u001b[0malpha\u001b[0m\u001b[0;34m\u001b[0m\u001b[0m\n",
      "\u001b[0;32m~/Work/kcgof/kcgof/cgoftest.py\u001b[0m in \u001b[0;36mcompute_stat\u001b[0;34m(self, X, Y, h)\u001b[0m\n\u001b[1;32m    556\u001b[0m            \u001b[0mh\u001b[0m \u001b[0;34m=\u001b[0m \u001b[0mn\u001b[0m\u001b[0;34m**\u001b[0m\u001b[0;34m(\u001b[0m\u001b[0;34m(\u001b[0m\u001b[0mself\u001b[0m\u001b[0;34m.\u001b[0m\u001b[0mrate\u001b[0m\u001b[0;34m-\u001b[0m\u001b[0;36m1.\u001b[0m\u001b[0;34m)\u001b[0m\u001b[0;34m/\u001b[0m\u001b[0;34m(\u001b[0m\u001b[0mdx\u001b[0m\u001b[0;34m+\u001b[0m\u001b[0mdy\u001b[0m\u001b[0;34m)\u001b[0m\u001b[0;34m)\u001b[0m\u001b[0;34m\u001b[0m\u001b[0m\n\u001b[1;32m    557\u001b[0m \u001b[0;34m\u001b[0m\u001b[0m\n\u001b[0;32m--> 558\u001b[0;31m         \u001b[0mK1\u001b[0m \u001b[0;34m=\u001b[0m \u001b[0mself\u001b[0m\u001b[0;34m.\u001b[0m\u001b[0mkx\u001b[0m\u001b[0;34m(\u001b[0m\u001b[0;34m(\u001b[0m\u001b[0mX\u001b[0m\u001b[0;34m.\u001b[0m\u001b[0munsqueeze\u001b[0m\u001b[0;34m(\u001b[0m\u001b[0;36m1\u001b[0m\u001b[0;34m)\u001b[0m\u001b[0;34m-\u001b[0m\u001b[0mX\u001b[0m\u001b[0;34m)\u001b[0m\u001b[0;34m/\u001b[0m\u001b[0mh\u001b[0m\u001b[0;34m)\u001b[0m\u001b[0;34m\u001b[0m\u001b[0m\n\u001b[0m\u001b[1;32m    559\u001b[0m         \u001b[0mK2\u001b[0m \u001b[0;34m=\u001b[0m \u001b[0mself\u001b[0m\u001b[0;34m.\u001b[0m\u001b[0mky\u001b[0m\u001b[0;34m(\u001b[0m\u001b[0;34m(\u001b[0m\u001b[0mY\u001b[0m\u001b[0;34m.\u001b[0m\u001b[0munsqueeze\u001b[0m\u001b[0;34m(\u001b[0m\u001b[0;36m1\u001b[0m\u001b[0;34m)\u001b[0m\u001b[0;34m-\u001b[0m\u001b[0mY\u001b[0m\u001b[0;34m)\u001b[0m\u001b[0;34m/\u001b[0m\u001b[0mh\u001b[0m\u001b[0;34m,\u001b[0m \u001b[0mh\u001b[0m\u001b[0;34m)\u001b[0m\u001b[0;34m\u001b[0m\u001b[0m\n\u001b[1;32m    560\u001b[0m \u001b[0;34m\u001b[0m\u001b[0m\n",
      "\u001b[0;32m~/Work/kcgof/kcgof/cgoftest.py\u001b[0m in \u001b[0;36mvec_integrate\u001b[0;34m(Y, X, h)\u001b[0m\n\u001b[1;32m    544\u001b[0m         \u001b[0;32mdef\u001b[0m \u001b[0mvec_integrate\u001b[0m\u001b[0;34m(\u001b[0m\u001b[0mY\u001b[0m\u001b[0;34m,\u001b[0m \u001b[0mX\u001b[0m\u001b[0;34m,\u001b[0m \u001b[0mh\u001b[0m\u001b[0;34m)\u001b[0m\u001b[0;34m:\u001b[0m\u001b[0;34m\u001b[0m\u001b[0m\n\u001b[1;32m    545\u001b[0m             \u001b[0mint_results\u001b[0m \u001b[0;34m=\u001b[0m \u001b[0mnp\u001b[0m\u001b[0;34m.\u001b[0m\u001b[0mempty\u001b[0m\u001b[0;34m(\u001b[0m\u001b[0;34m[\u001b[0m\u001b[0mY\u001b[0m\u001b[0;34m.\u001b[0m\u001b[0mshape\u001b[0m\u001b[0;34m[\u001b[0m\u001b[0;36m0\u001b[0m\u001b[0;34m]\u001b[0m\u001b[0;34m,\u001b[0m \u001b[0mX\u001b[0m\u001b[0;34m.\u001b[0m\u001b[0mshape\u001b[0m\u001b[0;34m[\u001b[0m\u001b[0;36m0\u001b[0m\u001b[0;34m]\u001b[0m\u001b[0;34m]\u001b[0m\u001b[0;34m)\u001b[0m\u001b[0;34m\u001b[0m\u001b[0m\n\u001b[0;32m--> 546\u001b[0;31m             \u001b[0mn\u001b[0m \u001b[0;34m=\u001b[0m \u001b[0mY\u001b[0m\u001b[0;34m.\u001b[0m\u001b[0mshape\u001b[0m\u001b[0;34m[\u001b[0m\u001b[0;36m0\u001b[0m\u001b[0;34m]\u001b[0m\u001b[0;34m\u001b[0m\u001b[0m\n\u001b[0m\u001b[1;32m    547\u001b[0m             \u001b[0;32mfor\u001b[0m \u001b[0mi\u001b[0m \u001b[0;32min\u001b[0m \u001b[0mrange\u001b[0m\u001b[0;34m(\u001b[0m\u001b[0mn\u001b[0m\u001b[0;34m)\u001b[0m\u001b[0;34m:\u001b[0m\u001b[0;34m\u001b[0m\u001b[0m\n\u001b[1;32m    548\u001b[0m                 \u001b[0;32mfor\u001b[0m \u001b[0mj\u001b[0m \u001b[0;32min\u001b[0m \u001b[0mrange\u001b[0m\u001b[0;34m(\u001b[0m\u001b[0mi\u001b[0m\u001b[0;34m,\u001b[0m \u001b[0mn\u001b[0m\u001b[0;34m)\u001b[0m\u001b[0;34m:\u001b[0m\u001b[0;34m\u001b[0m\u001b[0m\n",
      "\u001b[0;32m~/Work/kcgof/kcgof/cgoftest.py\u001b[0m in \u001b[0;36mintegrate\u001b[0;34m(y0, x, h)\u001b[0m\n\u001b[1;32m    537\u001b[0m         \"\"\"\n\u001b[1;32m    538\u001b[0m         \u001b[0mCompute\u001b[0m \u001b[0mthe\u001b[0m \u001b[0mtest\u001b[0m \u001b[0mstatic\u001b[0m\u001b[0;34m.\u001b[0m\u001b[0;34m\u001b[0m\u001b[0m\n\u001b[0;32m--> 539\u001b[0;31m         \u001b[0mh\u001b[0m\u001b[0;34m:\u001b[0m \u001b[0moptinal\u001b[0m \u001b[0mkernel\u001b[0m \u001b[0mwidth\u001b[0m \u001b[0mparam\u001b[0m\u001b[0;34m\u001b[0m\u001b[0m\n\u001b[0m\u001b[1;32m    540\u001b[0m         \"\"\"\n\u001b[1;32m    541\u001b[0m         \u001b[0;32mdef\u001b[0m \u001b[0mintegrate\u001b[0m\u001b[0;34m(\u001b[0m\u001b[0my0\u001b[0m\u001b[0;34m,\u001b[0m \u001b[0mx\u001b[0m\u001b[0;34m,\u001b[0m \u001b[0mh\u001b[0m\u001b[0;34m)\u001b[0m\u001b[0;34m:\u001b[0m\u001b[0;34m\u001b[0m\u001b[0m\n",
      "\u001b[0;32m~/Work/kcgof/.venv/lib/python3.6/site-packages/scipy/integrate/quadpack.py\u001b[0m in \u001b[0;36mquad\u001b[0;34m(func, a, b, args, full_output, epsabs, epsrel, limit, points, weight, wvar, wopts, maxp1, limlst)\u001b[0m\n\u001b[1;32m    340\u001b[0m     \u001b[0;32mif\u001b[0m \u001b[0mweight\u001b[0m \u001b[0;32mis\u001b[0m \u001b[0;32mNone\u001b[0m\u001b[0;34m:\u001b[0m\u001b[0;34m\u001b[0m\u001b[0m\n\u001b[1;32m    341\u001b[0m         retval = _quad(func, a, b, args, full_output, epsabs, epsrel, limit,\n\u001b[0;32m--> 342\u001b[0;31m                        points)\n\u001b[0m\u001b[1;32m    343\u001b[0m     \u001b[0;32melse\u001b[0m\u001b[0;34m:\u001b[0m\u001b[0;34m\u001b[0m\u001b[0m\n\u001b[1;32m    344\u001b[0m         \u001b[0;32mif\u001b[0m \u001b[0mpoints\u001b[0m \u001b[0;32mis\u001b[0m \u001b[0;32mnot\u001b[0m \u001b[0;32mNone\u001b[0m\u001b[0;34m:\u001b[0m\u001b[0;34m\u001b[0m\u001b[0m\n",
      "\u001b[0;32m~/Work/kcgof/.venv/lib/python3.6/site-packages/scipy/integrate/quadpack.py\u001b[0m in \u001b[0;36m_quad\u001b[0;34m(func, a, b, args, full_output, epsabs, epsrel, limit, points)\u001b[0m\n\u001b[1;32m    453\u001b[0m             \u001b[0;32mreturn\u001b[0m \u001b[0m_quadpack\u001b[0m\u001b[0;34m.\u001b[0m\u001b[0m_qagse\u001b[0m\u001b[0;34m(\u001b[0m\u001b[0mfunc\u001b[0m\u001b[0;34m,\u001b[0m\u001b[0ma\u001b[0m\u001b[0;34m,\u001b[0m\u001b[0mb\u001b[0m\u001b[0;34m,\u001b[0m\u001b[0margs\u001b[0m\u001b[0;34m,\u001b[0m\u001b[0mfull_output\u001b[0m\u001b[0;34m,\u001b[0m\u001b[0mepsabs\u001b[0m\u001b[0;34m,\u001b[0m\u001b[0mepsrel\u001b[0m\u001b[0;34m,\u001b[0m\u001b[0mlimit\u001b[0m\u001b[0;34m)\u001b[0m\u001b[0;34m\u001b[0m\u001b[0m\n\u001b[1;32m    454\u001b[0m         \u001b[0;32melse\u001b[0m\u001b[0;34m:\u001b[0m\u001b[0;34m\u001b[0m\u001b[0m\n\u001b[0;32m--> 455\u001b[0;31m             \u001b[0;32mreturn\u001b[0m \u001b[0m_quadpack\u001b[0m\u001b[0;34m.\u001b[0m\u001b[0m_qagie\u001b[0m\u001b[0;34m(\u001b[0m\u001b[0mfunc\u001b[0m\u001b[0;34m,\u001b[0m\u001b[0mbound\u001b[0m\u001b[0;34m,\u001b[0m\u001b[0minfbounds\u001b[0m\u001b[0;34m,\u001b[0m\u001b[0margs\u001b[0m\u001b[0;34m,\u001b[0m\u001b[0mfull_output\u001b[0m\u001b[0;34m,\u001b[0m\u001b[0mepsabs\u001b[0m\u001b[0;34m,\u001b[0m\u001b[0mepsrel\u001b[0m\u001b[0;34m,\u001b[0m\u001b[0mlimit\u001b[0m\u001b[0;34m)\u001b[0m\u001b[0;34m\u001b[0m\u001b[0m\n\u001b[0m\u001b[1;32m    456\u001b[0m     \u001b[0;32melse\u001b[0m\u001b[0;34m:\u001b[0m\u001b[0;34m\u001b[0m\u001b[0m\n\u001b[1;32m    457\u001b[0m         \u001b[0;32mif\u001b[0m \u001b[0minfbounds\u001b[0m \u001b[0;34m!=\u001b[0m \u001b[0;36m0\u001b[0m\u001b[0;34m:\u001b[0m\u001b[0;34m\u001b[0m\u001b[0m\n",
      "\u001b[0;32m~/Work/kcgof/kcgof/cgoftest.py\u001b[0m in \u001b[0;36m_integrand\u001b[0;34m(self, y, y0, x, h)\u001b[0m\n\u001b[1;32m    528\u001b[0m \u001b[0;34m\u001b[0m\u001b[0m\n\u001b[1;32m    529\u001b[0m     \u001b[0;32mdef\u001b[0m \u001b[0m_integrand\u001b[0m\u001b[0;34m(\u001b[0m\u001b[0mself\u001b[0m\u001b[0;34m,\u001b[0m \u001b[0my\u001b[0m\u001b[0;34m,\u001b[0m \u001b[0my0\u001b[0m\u001b[0;34m,\u001b[0m \u001b[0mx\u001b[0m\u001b[0;34m,\u001b[0m \u001b[0mh\u001b[0m\u001b[0;34m)\u001b[0m\u001b[0;34m:\u001b[0m\u001b[0;34m\u001b[0m\u001b[0m\n\u001b[0;32m--> 530\u001b[0;31m         \u001b[0my_\u001b[0m \u001b[0;34m=\u001b[0m \u001b[0mtorch\u001b[0m\u001b[0;34m.\u001b[0m\u001b[0mfrom_numpy\u001b[0m\u001b[0;34m(\u001b[0m\u001b[0mnp\u001b[0m\u001b[0;34m.\u001b[0m\u001b[0marray\u001b[0m\u001b[0;34m(\u001b[0m\u001b[0my\u001b[0m\u001b[0;34m)\u001b[0m\u001b[0;34m)\u001b[0m\u001b[0;34m.\u001b[0m\u001b[0mtype\u001b[0m\u001b[0;34m(\u001b[0m\u001b[0mtorch\u001b[0m\u001b[0;34m.\u001b[0m\u001b[0mfloat\u001b[0m\u001b[0;34m)\u001b[0m\u001b[0;34m.\u001b[0m\u001b[0mview\u001b[0m\u001b[0;34m(\u001b[0m\u001b[0;36m1\u001b[0m\u001b[0;34m,\u001b[0m \u001b[0;34m-\u001b[0m\u001b[0;36m1\u001b[0m\u001b[0;34m)\u001b[0m\u001b[0;34m\u001b[0m\u001b[0m\n\u001b[0m\u001b[1;32m    531\u001b[0m         \u001b[0my0_\u001b[0m \u001b[0;34m=\u001b[0m \u001b[0mtorch\u001b[0m\u001b[0;34m.\u001b[0m\u001b[0mfrom_numpy\u001b[0m\u001b[0;34m(\u001b[0m\u001b[0mnp\u001b[0m\u001b[0;34m.\u001b[0m\u001b[0marray\u001b[0m\u001b[0;34m(\u001b[0m\u001b[0my0\u001b[0m\u001b[0;34m)\u001b[0m\u001b[0;34m)\u001b[0m\u001b[0;34m.\u001b[0m\u001b[0mtype\u001b[0m\u001b[0;34m(\u001b[0m\u001b[0mtorch\u001b[0m\u001b[0;34m.\u001b[0m\u001b[0mfloat\u001b[0m\u001b[0;34m)\u001b[0m\u001b[0;34m.\u001b[0m\u001b[0mview\u001b[0m\u001b[0;34m(\u001b[0m\u001b[0;36m1\u001b[0m\u001b[0;34m,\u001b[0m \u001b[0;34m-\u001b[0m\u001b[0;36m1\u001b[0m\u001b[0;34m)\u001b[0m\u001b[0;34m\u001b[0m\u001b[0m\n\u001b[1;32m    532\u001b[0m         \u001b[0mx_\u001b[0m \u001b[0;34m=\u001b[0m \u001b[0mtorch\u001b[0m\u001b[0;34m.\u001b[0m\u001b[0mfrom_numpy\u001b[0m\u001b[0;34m(\u001b[0m\u001b[0mnp\u001b[0m\u001b[0;34m.\u001b[0m\u001b[0marray\u001b[0m\u001b[0;34m(\u001b[0m\u001b[0mx\u001b[0m\u001b[0;34m)\u001b[0m\u001b[0;34m)\u001b[0m\u001b[0;34m.\u001b[0m\u001b[0mtype\u001b[0m\u001b[0;34m(\u001b[0m\u001b[0mtorch\u001b[0m\u001b[0;34m.\u001b[0m\u001b[0mfloat\u001b[0m\u001b[0;34m)\u001b[0m\u001b[0;34m.\u001b[0m\u001b[0mview\u001b[0m\u001b[0;34m(\u001b[0m\u001b[0;36m1\u001b[0m\u001b[0;34m,\u001b[0m \u001b[0;34m-\u001b[0m\u001b[0;36m1\u001b[0m\u001b[0;34m)\u001b[0m\u001b[0;34m\u001b[0m\u001b[0m\n",
      "\u001b[0;32m~/Work/kcgof/kcgof/cgoftest.py\u001b[0m in \u001b[0;36mK2\u001b[0;34m(Y, h)\u001b[0m\n\u001b[1;32m    621\u001b[0m         \u001b[0mReturn\u001b[0m\u001b[0;34m:\u001b[0m \u001b[0mkernel\u001b[0m \u001b[0mevaluated\u001b[0m \u001b[0mat\u001b[0m \u001b[0mY\u001b[0m \u001b[0mof\u001b[0m \u001b[0msize\u001b[0m \u001b[0mn\u001b[0m\u001b[0;34m\u001b[0m\u001b[0m\n\u001b[1;32m    622\u001b[0m         \"\"\"\n\u001b[0;32m--> 623\u001b[0;31m         \u001b[0mK\u001b[0m \u001b[0;34m=\u001b[0m \u001b[0mtorch\u001b[0m\u001b[0;34m.\u001b[0m\u001b[0mzeros\u001b[0m\u001b[0;34m(\u001b[0m\u001b[0mY\u001b[0m\u001b[0;34m.\u001b[0m\u001b[0mshape\u001b[0m\u001b[0;34m)\u001b[0m\u001b[0;34m\u001b[0m\u001b[0m\n\u001b[0m\u001b[1;32m    624\u001b[0m         \u001b[0mweight\u001b[0m \u001b[0;34m=\u001b[0m \u001b[0;36m1\u001b[0m \u001b[0;34m-\u001b[0m \u001b[0mtorch\u001b[0m\u001b[0;34m.\u001b[0m\u001b[0mexp\u001b[0m\u001b[0;34m(\u001b[0m\u001b[0mtorch\u001b[0m\u001b[0;34m.\u001b[0m\u001b[0mtensor\u001b[0m\u001b[0;34m(\u001b[0m\u001b[0;34m-\u001b[0m\u001b[0;36m2.\u001b[0m\u001b[0;34m/\u001b[0m\u001b[0mh\u001b[0m\u001b[0;34m)\u001b[0m\u001b[0;34m)\u001b[0m\u001b[0;34m\u001b[0m\u001b[0m\n\u001b[1;32m    625\u001b[0m         \u001b[0mpos_idx\u001b[0m \u001b[0;34m=\u001b[0m \u001b[0;34m(\u001b[0m\u001b[0mY\u001b[0m\u001b[0;34m>=\u001b[0m\u001b[0;36m0\u001b[0m\u001b[0;34m)\u001b[0m \u001b[0;34m&\u001b[0m \u001b[0;34m(\u001b[0m\u001b[0mY\u001b[0m\u001b[0;34m<\u001b[0m\u001b[0;36m1.\u001b[0m\u001b[0;34m/\u001b[0m\u001b[0mh\u001b[0m\u001b[0;34m)\u001b[0m\u001b[0;34m\u001b[0m\u001b[0m\n",
      "\u001b[0;31mKeyboardInterrupt\u001b[0m: "
     ]
    }
   ],
   "source": [
    "ols = cd.CDGaussianOLS(torch.ones(dx), c=0, variance=1.0)\n",
    "zheng_test = cgof.ZhengKLTest(ols, alpha)\n",
    "source = ols.get_condsource()\n",
    "X = torch.randn(n, dx)\n",
    "Y = source.cond_pair_sample(X, seed)\n",
    "zheng_test.perform_test(X, Y)"
   ]
  },
  {
   "cell_type": "markdown",
   "metadata": {},
   "source": [
    "## Alternative"
   ]
  },
  {
   "cell_type": "code",
   "execution_count": 153,
   "metadata": {},
   "outputs": [
    {
     "data": {
      "text/plain": [
       "{'alpha': 0.05,\n",
       " 'pvalue': 7.908618302243653e-06,\n",
       " 'test_stat': 4.316988541432568,\n",
       " 'h0_rejected': True,\n",
       " 'time_secs': 0.9554009437561035}"
      ]
     },
     "execution_count": 153,
     "metadata": {},
     "output_type": "execute_result"
    }
   ],
   "source": [
    "slope = 2.\n",
    "bias = 10.\n",
    "ols = cd.CDGaussianOLS(slope*torch.ones(dx), torch.tensor(bias), torch.ones(1))\n",
    "zheng_test = cgof.ZhengKLTest(ols, alpha)\n",
    "source = ols.get_condsource()\n",
    "X = torch.randn(n, dx)\n",
    "Y = source.cond_pair_sample(X, seed)\n",
    "zheng_test.perform_test(X, Y)"
   ]
  },
  {
   "cell_type": "markdown",
   "metadata": {},
   "source": [
    "# MMD"
   ]
  },
  {
   "cell_type": "code",
   "execution_count": 20,
   "metadata": {},
   "outputs": [],
   "source": [
    "import freqopttest.tst as tst\n",
    "import freqopttest.data as fdata\n",
    "\n",
    "seed = 13\n",
    "n = 300\n",
    "dx = 2\n",
    "dy = 1\n",
    "alpha = 0.05"
   ]
  },
  {
   "cell_type": "markdown",
   "metadata": {},
   "source": [
    "## Null"
   ]
  },
  {
   "cell_type": "code",
   "execution_count": 16,
   "metadata": {},
   "outputs": [
    {
     "name": "stderr",
     "output_type": "stream",
     "text": [
      "WARNING: 2020-02-16 16:55:42,486: cgoftest.__init__(): This test does not accept Pytorch kernels starting with prefix PT\n"
     ]
    }
   ],
   "source": [
    "ols = cd.CDGaussianOLS(torch.ones(dx), c=0, variance=1.0)\n",
    "with util.TorchSeedContext(seed=seed):\n",
    "    X = torch.randn(n, dx)\n",
    "source = ols.get_condsource()\n",
    "Y = source.cond_pair_sample(X, seed)\n",
    "med_x = util.meddistance(X.numpy(), 1000)\n",
    "med_y = util.meddistance(Y.numpy(), 1000)\n",
    "k = kernel.PTKGauss(med_x).numpy()\n",
    "l = kernel.PTKGauss(med_y).numpy()\n",
    "\n",
    "mmdtest = cgof.MMDTest(ols, k, l, alpha=alpha, seed=seed)"
   ]
  },
  {
   "cell_type": "code",
   "execution_count": 19,
   "metadata": {},
   "outputs": [
    {
     "data": {
      "text/plain": [
       "{'alpha': 0.05,\n",
       " 'pvalue': 1.0,\n",
       " 'test_stat': -0.004018268359810451,\n",
       " 'h0_rejected': False,\n",
       " 'list_permuted_mmd2': array([-2.65220004e-03, -1.87118956e-03,  1.84699868e-03,  6.28832219e-05,\n",
       "        -2.47154142e-03,  1.68310601e-03,  1.14280675e-03,  3.08733103e-04,\n",
       "        -3.13980630e-04, -1.06089308e-03,  1.34430306e-03,  3.75620558e-03,\n",
       "         1.54699693e-03,  1.05074641e-03,  1.02139510e-03, -3.16077463e-03,\n",
       "        -2.14162225e-03, -2.09376306e-03, -2.55315026e-03, -7.12988608e-04,\n",
       "         2.29101345e-03,  3.62318841e-04, -1.52898986e-03, -9.60515085e-04,\n",
       "        -3.56722931e-04, -2.87962915e-03, -1.46323248e-03, -2.72921457e-03,\n",
       "         5.55214430e-04,  5.70695722e-05,  3.50423721e-03, -1.00978958e-03,\n",
       "         5.36771878e-04,  3.81022680e-04, -1.29929627e-03, -7.74848453e-04,\n",
       "        -2.29075216e-03, -3.21207410e-03,  1.10544262e-03,  1.89076435e-03,\n",
       "        -3.07021669e-03,  2.70987929e-03, -1.52356814e-03,  1.69410187e-03,\n",
       "        -1.72867893e-03, -1.77000592e-03, -2.95847269e-03, -5.62334518e-04,\n",
       "        -2.27997405e-03,  8.16480281e-04, -1.82198039e-03,  4.21271861e-03,\n",
       "        -2.59913688e-03, -2.74082009e-03, -2.27122091e-03,  1.01272906e-03,\n",
       "        -6.50715057e-04, -2.50428947e-03, -1.85514214e-05, -1.66570861e-03,\n",
       "         4.16187639e-04, -4.13487667e-04,  3.45609497e-03, -1.86474446e-03,\n",
       "         1.38798164e-03, -1.40818788e-03,  5.41649247e-04,  4.37896286e-03,\n",
       "        -2.08133013e-03, -7.53597060e-05, -2.95183163e-03, -1.12098923e-03,\n",
       "         1.37581435e-02, -1.77102930e-03, -2.03368868e-04, -2.71046718e-03,\n",
       "         2.35526843e-03, -2.69082706e-03, -2.77062866e-03, -1.30001481e-03,\n",
       "        -1.09771286e-03,  2.09594046e-03, -1.75016984e-03, -1.98334727e-03,\n",
       "         9.88951888e-04, -1.44289559e-03,  1.11421753e-03,  2.53448997e-04,\n",
       "        -1.42869896e-03,  3.40364148e-03, -2.98936995e-03,  4.81008744e-03,\n",
       "         1.59668513e-04, -1.13093994e-03, -2.24748728e-03, -7.57777662e-04,\n",
       "        -3.35800324e-03,  1.46760904e-03,  1.87774352e-03,  2.56619287e-03,\n",
       "        -1.50399335e-03, -7.51158375e-04, -5.10839082e-04,  7.86345109e-04,\n",
       "         1.10840388e-03,  1.55788392e-03, -2.62692046e-03, -1.04155780e-03,\n",
       "         1.03117161e-03, -5.13756793e-04,  4.03410674e-03,  4.06313145e-03,\n",
       "         2.97423704e-03,  2.22573509e-04, -4.79201505e-04,  6.04031668e-04,\n",
       "        -1.97844813e-03,  3.47717217e-03,  5.32721920e-04,  3.67228871e-03,\n",
       "         4.96590196e-03, -1.51592548e-03, -1.04275537e-04, -2.30745279e-03,\n",
       "        -1.44026094e-03, -1.80181769e-03,  2.58966520e-03, -1.27806665e-03,\n",
       "        -2.98623450e-03,  9.28071872e-04, -1.28995523e-03, -3.67866848e-03,\n",
       "         2.77335040e-04, -3.22539977e-03,  1.42116517e-03,  1.05013674e-03,\n",
       "        -9.44554766e-05, -1.30417363e-03, -4.61346851e-04,  3.41524700e-03,\n",
       "        -2.52850213e-03, -1.25929748e-03, -1.48901286e-03, -1.52021495e-03,\n",
       "         4.57340440e-04, -1.87506532e-03, -4.91068318e-04,  1.30794053e-03,\n",
       "        -1.85128815e-03, -2.28816106e-03, -1.13370523e-03, -1.89470544e-03,\n",
       "         5.97412382e-04,  6.64480560e-03, -1.72772088e-03, -1.64082097e-03,\n",
       "         5.58249721e-03,  1.22572202e-03, -2.59541353e-03,  1.07996708e-03,\n",
       "         8.58436542e-03, -1.11752717e-03, -6.00700251e-04, -2.38512054e-04,\n",
       "        -2.68997788e-03, -2.76115698e-04, -1.35492876e-03,  4.96098105e-04,\n",
       "         1.64935636e-03, -2.74602407e-03,  3.24421248e-03, -1.40392019e-03,\n",
       "         7.22832619e-03, -1.14454867e-03, -1.94062674e-03, -1.78751219e-03,\n",
       "         3.44448944e-03,  6.88218541e-03,  5.83725265e-03,  1.74030623e-03,\n",
       "         1.14552850e-03, -1.96078944e-03, -1.28921492e-03, -2.04623049e-03,\n",
       "        -1.86047676e-03, -3.63019962e-03, -1.15833159e-03, -2.70650432e-04,\n",
       "         1.81529578e-04, -7.22024805e-04,  2.61244077e-03,  1.93270102e-03,\n",
       "        -6.16856536e-04, -1.12277470e-03,  2.94061803e-03, -1.92658253e-03,\n",
       "         4.41941890e-03, -1.43120297e-04, -7.95185340e-05, -1.92860751e-03,\n",
       "        -7.25944119e-04, -1.44836086e-03, -1.70703560e-03,  1.90345858e-03,\n",
       "        -3.71855839e-04,  5.29477599e-04,  5.06070582e-03, -2.01744530e-03,\n",
       "         1.77575425e-03,  3.56657609e-05,  3.21825791e-03, -1.08242754e-03,\n",
       "        -1.29735838e-03, -7.37005295e-04, -2.72089691e-03,  2.29998432e-03,\n",
       "        -1.59877543e-03,  3.85638761e-04,  8.22489897e-04, -1.91549958e-03,\n",
       "         1.85557762e-03,  2.51717966e-03,  2.85404473e-03,  5.56255226e-03,\n",
       "        -2.32119217e-03,  3.71851484e-03, -1.37308825e-03,  4.53551770e-05,\n",
       "         5.04947046e-03,  1.34267001e-03, -3.17050759e-04,  7.39531076e-04,\n",
       "        -2.75560462e-03,  2.32920499e-03,  3.09016165e-04, -1.63439764e-03,\n",
       "        -6.15441228e-04,  2.12692482e-03, -1.58978278e-03, -1.37043182e-03,\n",
       "         8.58700007e-04,  1.87354114e-03, -6.42811106e-04, -3.61199659e-03,\n",
       "        -5.92251951e-04,  8.25973732e-04, -1.46482198e-03,  5.50968506e-04,\n",
       "        -2.40654613e-03, -5.75856152e-04, -3.38955372e-04,  4.46997805e-04,\n",
       "        -2.21556665e-03, -1.63650972e-03, -3.08014562e-04,  1.28006985e-03,\n",
       "         1.28729881e-03,  5.71348941e-04, -1.26084344e-03, -1.33507090e-03,\n",
       "         4.68142506e-03,  7.33565008e-05, -1.44226414e-03, -1.94757264e-03,\n",
       "         3.41851310e-06, -7.98908689e-04, -4.45538949e-04,  3.47416736e-03,\n",
       "        -1.39479689e-03, -1.66962793e-04, -1.04260295e-03,  4.87301421e-04,\n",
       "        -1.11831104e-03, -1.18907644e-03,  7.94074868e-04, -2.85866081e-03,\n",
       "        -4.61651686e-04, -9.57401407e-05, -2.71667276e-03, -1.83807135e-03,\n",
       "         2.90475631e-03,  1.39867266e-03, -2.28955459e-03,  6.68312779e-03,\n",
       "         1.19462880e-03,  5.99254459e-03,  1.12553999e-03, -1.42615141e-03,\n",
       "        -1.90585371e-03,  1.20501498e-03,  5.22133239e-03, -9.12438162e-04,\n",
       "         1.38088333e-03, -6.19752474e-04, -1.58355543e-03,  3.15265294e-04,\n",
       "        -2.46879790e-03, -1.98500209e-03, -5.96606745e-04, -1.67158758e-03,\n",
       "        -4.97731152e-04, -1.49399909e-03, -1.98537225e-03, -2.31829623e-03,\n",
       "        -6.87425969e-04, -1.42654334e-03,  1.64143064e-03, -1.56670238e-03,\n",
       "        -1.67015050e-03, -2.60087880e-03,  8.18374617e-04, -1.45879059e-03,\n",
       "        -2.94318736e-04,  1.05320687e-03, -2.53904073e-03, -2.60198927e-04,\n",
       "        -1.17642576e-03,  3.18479132e-03, -1.20124808e-03, -9.50215998e-04,\n",
       "         1.42436594e-03,  4.76342583e-03,  1.28096258e-04, -1.49504424e-03,\n",
       "        -2.30586329e-03, -1.35747631e-03,  1.11990054e-03, -8.59375000e-04,\n",
       "         1.53591398e-03,  9.56617545e-04,  2.56061873e-05, -2.34897575e-04,\n",
       "        -2.41292590e-03, -1.28947621e-03, -9.57379634e-04, -2.09733400e-03,\n",
       "        -5.82932692e-04, -2.25737267e-03, -1.55966938e-04,  1.85906145e-03,\n",
       "        -1.34822237e-03,  1.06749059e-03, -1.62551387e-03, -1.78285256e-04,\n",
       "         6.71269684e-04,  1.28627543e-03,  1.00698073e-03, -4.01838594e-04,\n",
       "        -8.06507804e-05, -1.98230212e-03, -2.25948474e-03, -8.05941681e-04,\n",
       "         1.23016391e-03,  1.94474202e-03, -1.70335580e-03,  1.46064137e-03,\n",
       "        -2.37647628e-03, -6.49365071e-04, -6.87643708e-04, -2.60684486e-03,\n",
       "        -1.24220492e-03, -1.42900380e-03, -5.95474498e-04, -5.12864061e-04,\n",
       "        -2.53152871e-03, -1.52382943e-03,  8.97631863e-04, -1.72671927e-03,\n",
       "        -1.75097547e-03, -1.46286232e-03, -1.81287887e-03,  2.33449606e-03,\n",
       "         4.51461469e-04, -5.30021948e-04, -1.02753536e-03, -4.91634441e-04,\n",
       "         1.30780989e-03,  1.37502613e-04, -1.53724220e-05,  2.49078961e-03,\n",
       "         1.21881968e-03, -9.60602181e-04,  1.20357137e-02,  4.81335354e-04,\n",
       "         1.58231431e-04,  4.08044175e-05,  1.17143952e-03,  2.03164193e-03,\n",
       "        -1.09392419e-04, -8.22860054e-04, -2.61146095e-03, -1.30565426e-03,\n",
       "        -1.82716259e-03,  2.71848000e-03, -8.26692273e-04,  1.79946610e-03,\n",
       "         6.44644475e-03, -1.38364862e-03, -1.23449693e-03,  1.56859671e-04]),\n",
       " 'time_secs': 0.48955297470092773}"
      ]
     },
     "execution_count": 19,
     "metadata": {},
     "output_type": "execute_result"
    }
   ],
   "source": [
    "mmdtest.perform_test(X, Y)"
   ]
  },
  {
   "cell_type": "code",
   "execution_count": null,
   "metadata": {},
   "outputs": [],
   "source": []
  }
 ],
 "metadata": {
  "kernelspec": {
   "display_name": "Python 3",
   "language": "python",
   "name": "python3"
  },
  "language_info": {
   "codemirror_mode": {
    "name": "ipython",
    "version": 3
   },
   "file_extension": ".py",
   "mimetype": "text/x-python",
   "name": "python",
   "nbconvert_exporter": "python",
   "pygments_lexer": "ipython3",
   "version": "3.6.5"
  }
 },
 "nbformat": 4,
 "nbformat_minor": 4
}
