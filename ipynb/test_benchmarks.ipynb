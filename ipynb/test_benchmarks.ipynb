{
 "cells": [
  {
   "cell_type": "code",
   "execution_count": null,
   "metadata": {},
   "outputs": [],
   "source": [
    "import kcgof.cgoftest as cgof\n",
    "import kcgof.cdensity as cd\n",
    "import scipy\n",
    "from scipy.integrate import quad\n",
    "import numpy as np\n",
    "import torch.distributions as dists\n",
    "import torch"
   ]
  },
  {
   "cell_type": "code",
   "execution_count": null,
   "metadata": {},
   "outputs": [],
   "source": [
    "seed = 1\n",
    "n = 100\n",
    "dx = 1\n",
    "dy = 1\n",
    "alpha = 0.05"
   ]
  },
  {
   "cell_type": "markdown",
   "metadata": {},
   "source": [
    "## Null"
   ]
  },
  {
   "cell_type": "code",
   "execution_count": null,
   "metadata": {},
   "outputs": [],
   "source": [
    "ols = cd.CDGaussianOLS(torch.ones(dx), c=0, variance=1.0)\n",
    "zheng_test = cgof.ZhengKLTest(ols, alpha)\n",
    "source = ols.get_condsource()\n",
    "X = torch.randn(n, dx)\n",
    "Y = source.cond_pair_sample(X, seed)\n",
    "zheng_test.perform_test(X, Y)"
   ]
  },
  {
   "cell_type": "markdown",
   "metadata": {},
   "source": [
    "## Alternative"
   ]
  },
  {
   "cell_type": "code",
   "execution_count": null,
   "metadata": {},
   "outputs": [],
   "source": [
    "slope = 2.\n",
    "bias = 10.\n",
    "ols = cd.CDGaussianOLS(torch.tensor(slope), torch.tensor(bias), torch.ones(1))\n",
    "zheng_test = cgof.ZhengKLTest(ols, alpha)\n",
    "source = ols.get_condsource()\n",
    "X = torch.randn(n, dx)\n",
    "Y = source.cond_pair_sample(X, seed)\n",
    "zheng_test.perform_test(X, Y)"
   ]
  },
  {
   "cell_type": "code",
   "execution_count": null,
   "metadata": {},
   "outputs": [],
   "source": []
  }
 ],
 "metadata": {
  "kernelspec": {
   "display_name": "Python 3",
   "language": "python",
   "name": "python3"
  },
  "language_info": {
   "codemirror_mode": {
    "name": "ipython",
    "version": 3
   },
   "file_extension": ".py",
   "mimetype": "text/x-python",
   "name": "python",
   "nbconvert_exporter": "python",
   "pygments_lexer": "ipython3",
   "version": "3.8.1"
  }
 },
 "nbformat": 4,
 "nbformat_minor": 4
}
